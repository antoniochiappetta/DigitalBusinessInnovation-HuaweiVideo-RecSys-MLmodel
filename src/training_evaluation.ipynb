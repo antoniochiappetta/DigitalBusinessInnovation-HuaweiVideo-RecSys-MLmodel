{
 "cells": [
  {
   "cell_type": "markdown",
   "metadata": {},
   "source": [
    "# Imports"
   ]
  },
  {
   "cell_type": "code",
   "execution_count": null,
   "metadata": {},
   "outputs": [],
   "source": [
    "from GraphBased.RP3betaRecommender import RP3betaRecommender\n",
    "from FeatureWeighting.Cython.CFW_D_Similarity_Cython import CFW_D_Similarity_Cython, EvaluatorCFW_D_wrapper\n",
    "\n",
    "from Base.Evaluation.Evaluator import EvaluatorHoldout\n",
    "\n",
    "from Data_manager.Movielens_20m.Movielens20MReader import Movielens20MReader\n",
    "from Data_manager.DataSplitter_k_fold import DataSplitter_Warm_k_fold"
   ]
  },
  {
   "cell_type": "markdown",
   "metadata": {},
   "source": [
    "# Dataset selection and splitting (TODO: Switch to cold item dataset)"
   ]
  },
  {
   "cell_type": "markdown",
   "metadata": {},
   "source": [
    "### Dataset is downloaded and stored locally if absent"
   ]
  },
  {
   "cell_type": "code",
   "execution_count": null,
   "metadata": {},
   "outputs": [],
   "source": [
    "# Selecting a dataset\n",
    "dataReader = Movielens20MReader()\n",
    "\n",
    "# Splitting the dataset. This split will produce a warm item split\n",
    "# To replicate the original experimens use the dataset accessible here with a cold item split:\n",
    "# https://mmprj.github.io/mtrm_dataset/index\n",
    "dataSplitter = DataSplitter_Warm_k_fold(dataReader)\n",
    "dataSplitter.load_data()"
   ]
  },
  {
   "cell_type": "markdown",
   "metadata": {},
   "source": [
    "# Setup URM and ICM (TODO: Ignore warm items in cold items setting)"
   ]
  },
  {
   "cell_type": "code",
   "execution_count": null,
   "metadata": {},
   "outputs": [],
   "source": [
    "# Each URM is a scipy.sparse matrix of shape |users|x|items|\n",
    "URM_train, URM_validation, URM_test = dataSplitter.get_holdout_split()\n",
    "\n",
    "# The ICM is a scipy.sparse matrix of shape |items|x|features|\n",
    "ICM = dataSplitter.get_ICM_from_name(\"ICM_genre\")\n",
    "\n",
    "# This contains the items to be ignored during the evaluation step\n",
    "# In a cold items setting this should contain the indices of the warm items\n",
    "ignore_items = []"
   ]
  },
  {
   "cell_type": "markdown",
   "metadata": {},
   "source": [
    "# Setup evaluators"
   ]
  },
  {
   "cell_type": "code",
   "execution_count": null,
   "metadata": {},
   "outputs": [],
   "source": [
    "evaluator_validation = EvaluatorHoldout(URM_validation, cutoff_list=[5], ignore_items=ignore_items)\n",
    "evaluator_test = EvaluatorHoldout(URM_test, cutoff_list=[5], ignore_items=ignore_items)\n",
    "\n",
    "# This is used by the ML model of CFeCBF to perform early stopping and may be omitted.\n",
    "# ICM_target allows to set a different ICM for this validation step, providing flexibility in including\n",
    "# features present in either validation or test but not in train\n",
    "evaluator_validation_earlystopping = EvaluatorCFW_D_wrapper(evaluator_validation, ICM_target=ICM, model_to_use=\"last\")"
   ]
  },
  {
   "cell_type": "markdown",
   "metadata": {},
   "source": [
    "# CF Setup parameters (TODO: Parameter tuning)"
   ]
  },
  {
   "cell_type": "code",
   "execution_count": null,
   "metadata": {},
   "outputs": [],
   "source": [
    "# We compute the similarity matrix resulting from a RP3beta recommender\n",
    "# Note that we have not included the code for parameter tuning, which should be done\n",
    "\n",
    "cf_parameters = {'topK': 500,\n",
    "                 'alpha': 0.9,\n",
    "                 'beta': 0.7,\n",
    "                 'normalize_similarity': True}"
   ]
  },
  {
   "cell_type": "markdown",
   "metadata": {},
   "source": [
    "# CF Recommender training and evaluation"
   ]
  },
  {
   "cell_type": "code",
   "execution_count": null,
   "metadata": {},
   "outputs": [],
   "source": [
    "recommender_collaborative = RP3betaRecommender(URM_train)\n",
    "recommender_collaborative.fit(**cf_parameters)\n",
    "\n",
    "result_dict, result_string = evaluator_test.evaluateRecommender(recommender_collaborative)\n",
    "print(\"CF recommendation quality is: {}\".format(result_string))"
   ]
  },
  {
   "cell_type": "markdown",
   "metadata": {},
   "source": [
    "# FW Setup parameters (TODO: Parameter tuning)"
   ]
  },
  {
   "cell_type": "code",
   "execution_count": null,
   "metadata": {},
   "outputs": [],
   "source": [
    "# We get the similarity matrix\n",
    "# The similarity is a scipy.sparse matrix of shape |items|x|items|\n",
    "similarity_collaborative = recommender_collaborative.W_sparse.copy()\n",
    "\n",
    "\n",
    "# We instance and fit the feature weighting algorithm, it takes as input:\n",
    "# - The train URM\n",
    "# - The ICM\n",
    "# - The collaborative similarity matrix\n",
    "# Note that we have not included the code for parameter tuning, which should be done as those are just default parameters\n",
    "\n",
    "fw_parameters =  {'epochs': 200,\n",
    "                  'learning_rate': 0.0001,\n",
    "                  'sgd_mode': 'adam',\n",
    "                  'add_zeros_quota': 1.0,\n",
    "                  'l1_reg': 0.01,\n",
    "                  'l2_reg': 0.001,\n",
    "                  'topK': 100,\n",
    "                  'use_dropout': True,\n",
    "                  'dropout_perc': 0.7,\n",
    "                  'initialization_mode_D': 'random',\n",
    "                  'positive_only_D': False,\n",
    "                  'normalize_similarity': True}"
   ]
  },
  {
   "cell_type": "markdown",
   "metadata": {},
   "source": [
    "# FW Recommender training and evaluation"
   ]
  },
  {
   "cell_type": "code",
   "execution_count": null,
   "metadata": {},
   "outputs": [],
   "source": [
    "\n",
    "\n",
    "recommender_fw = CFW_D_Similarity_Cython(URM_train, ICM, similarity_collaborative)\n",
    "recommender_fw.fit(**fw_parameters,\n",
    "                   evaluator_object=evaluator_validation_earlystopping,\n",
    "                   stop_on_validation=True,\n",
    "                   validation_every_n = 5,\n",
    "                   lower_validations_allowed=10,\n",
    "                   validation_metric=\"MAP\")\n",
    "\n",
    "\n",
    "result_dict, result_string = evaluator_test.evaluateRecommender(recommender_fw)\n",
    "print(\"CFeCBF recommendation quality is: {}\".format(result_string))"
   ]
  }
 ],
 "metadata": {
  "kernelspec": {
   "display_name": "Python 3",
   "language": "python",
   "name": "python3"
  },
  "language_info": {
   "codemirror_mode": {
    "name": "ipython",
    "version": 3
   },
   "file_extension": ".py",
   "mimetype": "text/x-python",
   "name": "python",
   "nbconvert_exporter": "python",
   "pygments_lexer": "ipython3",
   "version": "3.7.2"
  }
 },
 "nbformat": 4,
 "nbformat_minor": 2
}

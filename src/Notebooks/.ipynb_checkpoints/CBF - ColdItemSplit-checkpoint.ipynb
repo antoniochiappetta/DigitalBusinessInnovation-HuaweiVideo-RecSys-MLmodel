{
 "cells": [
  {
   "cell_type": "markdown",
   "metadata": {},
   "source": [
    "# Imports"
   ]
  },
  {
   "cell_type": "code",
   "execution_count": 1,
   "metadata": {},
   "outputs": [],
   "source": [
    "import sys\n",
    "sys.path.append(\"..\")\n",
    "\n",
    "from KNN.ItemKNNCBFRecommender import ItemKNNCBFRecommender\n",
    "\n",
    "from Base.Evaluation.Evaluator import EvaluatorHoldout\n",
    "\n",
    "from Data_manager.Movielens_20m.Movielens20MReader import Movielens20MReader\n",
    "from Data_manager.DataSplitter_k_fold import DataSplitter_Warm_k_fold\n",
    "\n",
    "from Data_manager.MMTF14K.URM5Fold_WarmCold_Reader import URM5Fold_WarmCold_Reader\n",
    "from Data_manager.MMTF14K.URM5Fold_WarmCold_Splitter import URM5Fold_WarmCold_Splitter"
   ]
  },
  {
   "cell_type": "markdown",
   "metadata": {},
   "source": [
    "# Dataset selection and splitting (TODO: Switch to cold item dataset)"
   ]
  },
  {
   "cell_type": "markdown",
   "metadata": {},
   "source": [
    "### Dataset is downloaded and stored locally if absent"
   ]
  },
  {
   "cell_type": "code",
   "execution_count": 2,
   "metadata": {
    "scrolled": true
   },
   "outputs": [
    {
     "name": "stdout",
     "output_type": "stream",
     "text": [
      "DataSplitter_k_fold for DataReader: Movielens_20m\n",
      "\t Num items: 27278\n",
      "\t Num users: 138493\n",
      "\n",
      "\t Statistics for fold 0: n_interactions 3947336 ( 19.74%), n_items 27278 ( 100.00%), density: 1.04E-03\n",
      "\t Statistics for fold 1: n_interactions 3999236 ( 20.00%), n_items 27278 ( 100.00%), density: 1.06E-03\n",
      "\t Statistics for fold 2: n_interactions 4000004 ( 20.00%), n_items 27278 ( 100.00%), density: 1.06E-03\n",
      "\t Statistics for fold 3: n_interactions 3999236 ( 20.00%), n_items 27278 ( 100.00%), density: 1.06E-03\n",
      "\t Statistics for fold 4: n_interactions 4054451 ( 20.27%), n_items 27278 ( 100.00%), density: 1.07E-03\n",
      "\n",
      "\n",
      "\t Statistics for ICM_genre: n_features 20, feature occurrences 54406, density: 9.97E-02\n",
      "\n",
      "\n",
      "DataSplitter_k_fold: Done.\n"
     ]
    },
    {
     "ename": "NameError",
     "evalue": "name 'URM5Fold_WarmCOld_Splitter' is not defined",
     "output_type": "error",
     "traceback": [
      "\u001b[0;31m---------------------------------------------------------------------------\u001b[0m",
      "\u001b[0;31mNameError\u001b[0m                                 Traceback (most recent call last)",
      "\u001b[0;32m<ipython-input-2-0c584f4ee3c6>\u001b[0m in \u001b[0;36m<module>\u001b[0;34m\u001b[0m\n\u001b[1;32m      8\u001b[0m \u001b[0mdataSplitter_ICM\u001b[0m \u001b[0;34m=\u001b[0m \u001b[0mDataSplitter_Warm_k_fold\u001b[0m\u001b[0;34m(\u001b[0m\u001b[0mdataReaderICM\u001b[0m\u001b[0;34m)\u001b[0m\u001b[0;34m\u001b[0m\u001b[0;34m\u001b[0m\u001b[0m\n\u001b[1;32m      9\u001b[0m \u001b[0mdataSplitter_ICM\u001b[0m\u001b[0;34m.\u001b[0m\u001b[0mload_data\u001b[0m\u001b[0;34m(\u001b[0m\u001b[0;34m)\u001b[0m\u001b[0;34m\u001b[0m\u001b[0;34m\u001b[0m\u001b[0m\n\u001b[0;32m---> 10\u001b[0;31m \u001b[0mdataSplitter_URM\u001b[0m \u001b[0;34m=\u001b[0m \u001b[0mURM5Fold_WarmCOld_Splitter\u001b[0m\u001b[0;34m(\u001b[0m\u001b[0mdataReaderURM\u001b[0m\u001b[0;34m)\u001b[0m\u001b[0;34m\u001b[0m\u001b[0;34m\u001b[0m\u001b[0m\n\u001b[0m\u001b[1;32m     11\u001b[0m \u001b[0mdataSplitter_URM\u001b[0m\u001b[0;34m.\u001b[0m\u001b[0mload_data\u001b[0m\u001b[0;34m(\u001b[0m\u001b[0;34m)\u001b[0m\u001b[0;34m\u001b[0m\u001b[0;34m\u001b[0m\u001b[0m\n",
      "\u001b[0;31mNameError\u001b[0m: name 'URM5Fold_WarmCOld_Splitter' is not defined"
     ]
    }
   ],
   "source": [
    "# Selecting a dataset\n",
    "dataReaderICM = Movielens20MReader()\n",
    "dataReaderURM = URM5Fold_WarmCold_Reader()\n",
    "\n",
    "# Splitting the dataset. This split will produce a warm item split\n",
    "# To replicate the original experimens use the dataset accessible here with a cold item split:\n",
    "# https://mmprj.github.io/mtrm_dataset/index\n",
    "dataSplitter_ICM = DataSplitter_Warm_k_fold(dataReaderICM)\n",
    "dataSplitter_ICM.load_data()\n",
    "dataSplitter_URM = URM5Fold_WarmCold_Splitter(dataReaderURM)\n",
    "dataSplitter_URM.load_data()"
   ]
  },
  {
   "cell_type": "markdown",
   "metadata": {},
   "source": [
    "# Setup URM and ICM (TODO: Ignore warm items in cold items setting)"
   ]
  },
  {
   "cell_type": "code",
   "execution_count": null,
   "metadata": {},
   "outputs": [],
   "source": [
    "# Each URM is a scipy.sparse matrix of shape |users|x|items|\n",
    "# TODO iterate over test_fold to perform 5-fold cross validation\n",
    "URM_train, URM_test = dataSplitter_URM.get_URM_train_for_test_fold(n_test_fold=1)\n",
    "\n",
    "# The ICM is a scipy.sparse matrix of shape |items|x|features|\n",
    "ICM = dataSplitter_ICM.get_ICM_from_name(\"ICM_genre\")\n",
    "\n",
    "# This contains the items to be ignored during the evaluation step\n",
    "# In a cold items setting this should contain the indices of the warm items\n",
    "ignore_items = []"
   ]
  },
  {
   "cell_type": "markdown",
   "metadata": {},
   "source": [
    "# Setup evaluators"
   ]
  },
  {
   "cell_type": "code",
   "execution_count": null,
   "metadata": {},
   "outputs": [],
   "source": [
    "evaluator_test = EvaluatorHoldout(URM_test, cutoff_list=[5], ignore_items=ignore_items)"
   ]
  },
  {
   "cell_type": "markdown",
   "metadata": {},
   "source": [
    "# CBF Setup parameters (TODO: Parameter tuning)"
   ]
  },
  {
   "cell_type": "code",
   "execution_count": null,
   "metadata": {},
   "outputs": [],
   "source": [
    "# We compute the similarity matrix resulting from an Item KNN CBF Recommender\n",
    "# Note that we have not included the code for parameter tuning, which should be done\n",
    "\n",
    "cbf_parameters = {\n",
    "                    'topK': 500,\n",
    "                    'shrink': 100,\n",
    "                    'similarity': 'cosine',\n",
    "                    'normalize': True,\n",
    "                    'feature_weighting': 'none' # Other options are BM25 and TF-IDF\n",
    "                 }"
   ]
  },
  {
   "cell_type": "markdown",
   "metadata": {},
   "source": [
    "# CBF Recommender training and evaluation"
   ]
  },
  {
   "cell_type": "code",
   "execution_count": null,
   "metadata": {},
   "outputs": [],
   "source": [
    "recommender_content_based = ItemKNNCBFRecommender(ICM,URM_train)\n",
    "recommender_content_based.fit(**cbf_parameters)\n",
    "\n",
    "result_dict, result_string = evaluator_test.evaluateRecommender(recommender_content_based)"
   ]
  },
  {
   "cell_type": "code",
   "execution_count": null,
   "metadata": {},
   "outputs": [],
   "source": [
    "print(\"CBF recommendation quality is: {}\".format(result_string))\n",
    "\n",
    "import json\n",
    "json = json.dumps(list(result_dict.values())[0], indent=4)\n",
    "f = open(\"Results/CBF - Movielens20M - results.json\",\"w\")\n",
    "f.write(json)\n",
    "f.close()"
   ]
  }
 ],
 "metadata": {
  "kernelspec": {
   "display_name": "Python 3",
   "language": "python",
   "name": "python3"
  },
  "language_info": {
   "codemirror_mode": {
    "name": "ipython",
    "version": 3
   },
   "file_extension": ".py",
   "mimetype": "text/x-python",
   "name": "python",
   "nbconvert_exporter": "python",
   "pygments_lexer": "ipython3",
   "version": "3.7.2"
  }
 },
 "nbformat": 4,
 "nbformat_minor": 2
}

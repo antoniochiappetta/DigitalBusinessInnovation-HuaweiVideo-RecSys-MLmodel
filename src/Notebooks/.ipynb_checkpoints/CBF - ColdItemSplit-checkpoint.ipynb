{
 "cells": [
  {
   "cell_type": "markdown",
   "metadata": {},
   "source": [
    "# Imports"
   ]
  },
  {
   "cell_type": "code",
   "execution_count": 4,
   "metadata": {},
   "outputs": [],
   "source": [
    "import sys\n",
    "sys.path.append(\"..\")\n",
    "\n",
    "from KNN.ItemKNNCBFRecommender import ItemKNNCBFRecommender\n",
    "\n",
    "from Base.Evaluation.Evaluator import EvaluatorHoldout\n",
    "\n",
    "from Data_manager.MMTF14K.URM5Fold_WarmCold_Reader import URM5Fold_WarmCold_Reader\n",
    "from Data_manager.MMTF14K.URM5Fold_WarmCold_Splitter import URM5Fold_WarmCold_Splitter"
   ]
  },
  {
   "cell_type": "markdown",
   "metadata": {},
   "source": [
    "# Dataset selection and splitting"
   ]
  },
  {
   "cell_type": "markdown",
   "metadata": {},
   "source": [
    "### Dataset is downloaded and stored locally if absent"
   ]
  },
  {
   "cell_type": "code",
   "execution_count": 5,
   "metadata": {
    "scrolled": true
   },
   "outputs": [
    {
     "name": "stdout",
     "output_type": "stream",
     "text": [
      "URM5Fold_WarmCold_Splitter for DataReader: MMTF14K/Final_MMTF14K_Web/Data\n",
      "\t Num items: 13623\n",
      "\t Num users: 138492\n",
      "\n",
      "\t Statistics for fold 0: n_interactions 12471739 ( 20.00%), n_items 13623 ( 100.00%), density: 6.61E-03\n",
      "\t Statistics for fold 1: n_interactions 12471739 ( 20.00%), n_items 13623 ( 100.00%), density: 6.61E-03\n",
      "\t Statistics for fold 2: n_interactions 12471739 ( 20.00%), n_items 13623 ( 100.00%), density: 6.61E-03\n",
      "\t Statistics for fold 3: n_interactions 12471739 ( 20.00%), n_items 13623 ( 100.00%), density: 6.61E-03\n",
      "\t Statistics for fold 4: n_interactions 12471739 ( 20.00%), n_items 13623 ( 100.00%), density: 6.61E-03\n",
      "\n",
      "\n",
      "\t Statistics for ICM_genre: n_features 18, feature occurrences 27099, density: 1.11E-01\n",
      "\t Statistics for ICM_year: n_features 1, feature occurrences 13623, density: 1.00E+00\n",
      "\t Statistics for ICM_AVF: n_features 107, feature occurrences 1401318, density: 9.61E-01\n",
      "\t Statistics for ICM_deep: n_features 4096, feature occurrences 55799808, density: 1.00E+00\n",
      "\t Statistics for ICM_ivector_1: n_features 100, feature occurrences 1362300, density: 1.00E+00\n",
      "\t Statistics for ICM_ivector_2: n_features 100, feature occurrences 1362300, density: 1.00E+00\n",
      "\t Statistics for ICM_ivector_3: n_features 100, feature occurrences 1362300, density: 1.00E+00\n",
      "\t Statistics for ICM_ivector_4: n_features 100, feature occurrences 1362300, density: 1.00E+00\n",
      "\t Statistics for ICM_ivector_5: n_features 100, feature occurrences 1362300, density: 1.00E+00\n",
      "\n",
      "\n",
      "DataSplitter_k_fold: Done.\n"
     ]
    }
   ],
   "source": [
    "# Selecting a dataset\n",
    "dataReader = URM5Fold_WarmCold_Reader()\n",
    "\n",
    "# Splitting the dataset. This split will produce a warm item split\n",
    "# To replicate the original experimens use the dataset accessible here with a cold item split:\n",
    "# https://mmprj.github.io/mtrm_dataset/index\n",
    "dataSplitter = URM5Fold_WarmCold_Splitter(dataReader)\n",
    "dataSplitter.load_data()"
   ]
  },
  {
   "cell_type": "markdown",
   "metadata": {},
   "source": [
    "# Setup URM and ICM"
   ]
  },
  {
   "cell_type": "code",
   "execution_count": 9,
   "metadata": {},
   "outputs": [],
   "source": [
    "# Each URM is a scipy.sparse matrix of shape |users|x|items|\n",
    "URM_train = [\n",
    "    dataSplitter.get_URM_train_for_test_fold(n_test_fold=1)[0],\n",
    "    dataSplitter.get_URM_train_for_test_fold(n_test_fold=2)[0],\n",
    "    dataSplitter.get_URM_train_for_test_fold(n_test_fold=3)[0],\n",
    "    dataSplitter.get_URM_train_for_test_fold(n_test_fold=4)[0],\n",
    "    dataSplitter.get_URM_train_for_test_fold(n_test_fold=5)[0]\n",
    "]\n",
    "\n",
    "URM_test = [\n",
    "    dataSplitter.get_URM_train_for_test_fold(n_test_fold=1)[1],\n",
    "    dataSplitter.get_URM_train_for_test_fold(n_test_fold=2)[1],\n",
    "    dataSplitter.get_URM_train_for_test_fold(n_test_fold=3)[1],\n",
    "    dataSplitter.get_URM_train_for_test_fold(n_test_fold=4)[1],\n",
    "    dataSplitter.get_URM_train_for_test_fold(n_test_fold=5)[1]\n",
    "]\n",
    "\n",
    "# The ICM is a scipy.sparse matrix of shape |items|x|features|\n",
    "ICM = [\n",
    "    (\"ICM_genre\", dataSplitter.get_ICM_from_name(\"ICM_genre\")),\n",
    "    (\"ICM_year\", dataSplitter.get_ICM_from_name(\"ICM_year\")),\n",
    "    # (\"ICM_BLF\", dataSplitter.get_ICM_from_name(\"ICM_BLF\")),\n",
    "    (\"ICM_ivector_1\", dataSplitter.get_ICM_from_name(\"ICM_ivector_1\")),\n",
    "    (\"ICM_AVF\", dataSplitter.get_ICM_from_name(\"ICM_AVF\")),\n",
    "    (\"ICM_deep\", dataSplitter.get_ICM_from_name(\"ICM_deep\"))\n",
    "]\n",
    "\n",
    "# This contains the items to be ignored during the evaluation step\n",
    "# In a cold items setting this should contain the indices of the warm items\n",
    "ignore_items = []"
   ]
  },
  {
   "cell_type": "markdown",
   "metadata": {},
   "source": [
    "# CBF Recommender training and evaluation"
   ]
  },
  {
   "cell_type": "code",
   "execution_count": 13,
   "metadata": {},
   "outputs": [
    {
     "name": "stdout",
     "output_type": "stream",
     "text": [
      "Ignoring 0 Items\n",
      "Unable to load Cython Compute_Similarity, reverting to Python\n",
      "Similarity column 13623 ( 100 % ), 4319.40 column/sec, elapsed time 0.05 min\n",
      "EvaluatorHoldout: Processed 72237 ( 52.82% ) in 30.00 sec. Users per second: 2408\n",
      "EvaluatorHoldout: Processed 136768 ( 100.00% ) in 52.92 sec. Users per second: 2584\n",
      "Ignoring 0 Items\n",
      "Unable to load Cython Compute_Similarity, reverting to Python\n",
      "Similarity column 13623 ( 100 % ), 5041.96 column/sec, elapsed time 0.05 min\n",
      "EvaluatorHoldout: Processed 73001 ( 53.02% ) in 30.08 sec. Users per second: 2427\n",
      "EvaluatorHoldout: Processed 137677 ( 100.00% ) in 53.27 sec. Users per second: 2585\n",
      "Ignoring 0 Items\n",
      "Unable to load Cython Compute_Similarity, reverting to Python\n",
      "Similarity column 13623 ( 100 % ), 5016.18 column/sec, elapsed time 0.05 min\n",
      "EvaluatorHoldout: Processed 72591 ( 52.78% ) in 30.00 sec. Users per second: 2420\n",
      "EvaluatorHoldout: Processed 137539 ( 100.00% ) in 53.23 sec. Users per second: 2584\n",
      "Ignoring 0 Items\n",
      "Unable to load Cython Compute_Similarity, reverting to Python\n",
      "Similarity column 13623 ( 100 % ), 4929.22 column/sec, elapsed time 0.05 min\n",
      "EvaluatorHoldout: Processed 73031 ( 53.04% ) in 30.00 sec. Users per second: 2434\n",
      "EvaluatorHoldout: Processed 137693 ( 100.00% ) in 53.03 sec. Users per second: 2596\n",
      "Ignoring 0 Items\n",
      "Unable to load Cython Compute_Similarity, reverting to Python\n",
      "Similarity column 13623 ( 100 % ), 4949.51 column/sec, elapsed time 0.05 min\n",
      "EvaluatorHoldout: Processed 71001 ( 52.00% ) in 30.05 sec. Users per second: 2363\n",
      "EvaluatorHoldout: Processed 136541 ( 100.00% ) in 54.16 sec. Users per second: 2521\n",
      "CBF recommendation quality is: CUTOFF: 5 - ROC_AUC: 0.0012396, PRECISION: 0.0005112, PRECISION_RECALL_MIN_DEN: 0.0005427, RECALL: 0.0001703, MAP: 0.0002562, MRR: 0.0011691, NDCG: 0.0002236, F1: 0.0002554, HIT_RATE: 0.0025560, ARHR: 0.0011743, RMSE: 0.9445370, NOVELTY: 0.0054590, DIVERSITY_MEAN_INTER_LIST: 0.9913418, DIVERSITY_HERFINDAHL: 0.9982669, COVERAGE_ITEM: 0.5854070, COVERAGE_USER: 1.0000000, DIVERSITY_GINI: 0.1754916, SHANNON_ENTROPY: 10.5462410, \n",
      "\n",
      "Ignoring 0 Items\n",
      "Unable to load Cython Compute_Similarity, reverting to Python\n",
      "Similarity column 13623 ( 100 % ), 4861.66 column/sec, elapsed time 0.05 min\n",
      "EvaluatorHoldout: Processed 73001 ( 53.38% ) in 30.03 sec. Users per second: 2431\n"
     ]
    },
    {
     "ename": "KeyboardInterrupt",
     "evalue": "",
     "output_type": "error",
     "traceback": [
      "\u001b[0;31m---------------------------------------------------------------------------\u001b[0m",
      "\u001b[0;31mKeyboardInterrupt\u001b[0m                         Traceback (most recent call last)",
      "\u001b[0;32m<ipython-input-13-fe590bf3a0fe>\u001b[0m in \u001b[0;36m<module>\u001b[0;34m\u001b[0m\n\u001b[1;32m     23\u001b[0m                 \u001b[0mrecommender_content_based\u001b[0m\u001b[0;34m.\u001b[0m\u001b[0mfit\u001b[0m\u001b[0;34m(\u001b[0m\u001b[0;34m**\u001b[0m\u001b[0mcbf_parameters\u001b[0m\u001b[0;34m)\u001b[0m\u001b[0;34m\u001b[0m\u001b[0;34m\u001b[0m\u001b[0m\n\u001b[1;32m     24\u001b[0m \u001b[0;34m\u001b[0m\u001b[0m\n\u001b[0;32m---> 25\u001b[0;31m                 \u001b[0mresult_dict\u001b[0m\u001b[0;34m,\u001b[0m \u001b[0mresult_string\u001b[0m \u001b[0;34m=\u001b[0m \u001b[0mevaluator_test\u001b[0m\u001b[0;34m.\u001b[0m\u001b[0mevaluateRecommender\u001b[0m\u001b[0;34m(\u001b[0m\u001b[0mrecommender_content_based\u001b[0m\u001b[0;34m)\u001b[0m\u001b[0;34m\u001b[0m\u001b[0;34m\u001b[0m\u001b[0m\n\u001b[0m\u001b[1;32m     26\u001b[0m                 \u001b[0;32mfor\u001b[0m \u001b[0mmetric\u001b[0m\u001b[0;34m,\u001b[0m\u001b[0mvalue\u001b[0m \u001b[0;32min\u001b[0m \u001b[0mlist\u001b[0m\u001b[0;34m(\u001b[0m\u001b[0mresult_dict\u001b[0m\u001b[0;34m.\u001b[0m\u001b[0mvalues\u001b[0m\u001b[0;34m(\u001b[0m\u001b[0;34m)\u001b[0m\u001b[0;34m)\u001b[0m\u001b[0;34m[\u001b[0m\u001b[0;36m0\u001b[0m\u001b[0;34m]\u001b[0m\u001b[0;34m.\u001b[0m\u001b[0mitems\u001b[0m\u001b[0;34m(\u001b[0m\u001b[0;34m)\u001b[0m\u001b[0;34m:\u001b[0m\u001b[0;34m\u001b[0m\u001b[0;34m\u001b[0m\u001b[0m\n\u001b[1;32m     27\u001b[0m                     \u001b[0mcurrentValue\u001b[0m \u001b[0;34m=\u001b[0m \u001b[0moverall_result_dict\u001b[0m\u001b[0;34m.\u001b[0m\u001b[0mget\u001b[0m\u001b[0;34m(\u001b[0m\u001b[0mmetric\u001b[0m\u001b[0;34m,\u001b[0m \u001b[0;36m0\u001b[0m\u001b[0;34m)\u001b[0m\u001b[0;34m\u001b[0m\u001b[0;34m\u001b[0m\u001b[0m\n",
      "\u001b[0;32m~/OneDrive - Politecnico di Milano/PoliMi/Course - Digital Business Innovation/Project/Repo/recsys-videostreaming/src/Base/Evaluation/Evaluator.py\u001b[0m in \u001b[0;36mevaluateRecommender\u001b[0;34m(self, recommender_object)\u001b[0m\n\u001b[1;32m    367\u001b[0m \u001b[0;34m\u001b[0m\u001b[0m\n\u001b[1;32m    368\u001b[0m \u001b[0;34m\u001b[0m\u001b[0m\n\u001b[0;32m--> 369\u001b[0;31m         \u001b[0mresults_dict\u001b[0m\u001b[0;34m,\u001b[0m \u001b[0mn_users_evaluated\u001b[0m \u001b[0;34m=\u001b[0m \u001b[0mself\u001b[0m\u001b[0;34m.\u001b[0m\u001b[0m_run_evaluation_on_selected_users\u001b[0m\u001b[0;34m(\u001b[0m\u001b[0mrecommender_object\u001b[0m\u001b[0;34m,\u001b[0m \u001b[0mself\u001b[0m\u001b[0;34m.\u001b[0m\u001b[0musersToEvaluate\u001b[0m\u001b[0;34m)\u001b[0m\u001b[0;34m\u001b[0m\u001b[0;34m\u001b[0m\u001b[0m\n\u001b[0m\u001b[1;32m    370\u001b[0m \u001b[0;34m\u001b[0m\u001b[0m\n\u001b[1;32m    371\u001b[0m \u001b[0;34m\u001b[0m\u001b[0m\n",
      "\u001b[0;32m~/OneDrive - Politecnico di Milano/PoliMi/Course - Digital Business Innovation/Project/Repo/recsys-videostreaming/src/Base/Evaluation/Evaluator.py\u001b[0m in \u001b[0;36m_run_evaluation_on_selected_users\u001b[0;34m(self, recommender_object, usersToEvaluate, block_size)\u001b[0m\n\u001b[1;32m    270\u001b[0m                                                                       \u001b[0mremove_top_pop_flag\u001b[0m\u001b[0;34m=\u001b[0m\u001b[0;32mFalse\u001b[0m\u001b[0;34m,\u001b[0m\u001b[0;34m\u001b[0m\u001b[0;34m\u001b[0m\u001b[0m\n\u001b[1;32m    271\u001b[0m                                                                       \u001b[0mremove_CustomItems_flag\u001b[0m\u001b[0;34m=\u001b[0m\u001b[0mself\u001b[0m\u001b[0;34m.\u001b[0m\u001b[0mignore_items_flag\u001b[0m\u001b[0;34m,\u001b[0m\u001b[0;34m\u001b[0m\u001b[0;34m\u001b[0m\u001b[0m\n\u001b[0;32m--> 272\u001b[0;31m                                                                       \u001b[0mreturn_scores\u001b[0m \u001b[0;34m=\u001b[0m \u001b[0;32mTrue\u001b[0m\u001b[0;34m\u001b[0m\u001b[0;34m\u001b[0m\u001b[0m\n\u001b[0m\u001b[1;32m    273\u001b[0m                                                                      )\n\u001b[1;32m    274\u001b[0m \u001b[0;34m\u001b[0m\u001b[0m\n",
      "\u001b[0;32m~/OneDrive - Politecnico di Milano/PoliMi/Course - Digital Business Innovation/Project/Repo/recsys-videostreaming/src/Base/BaseRecommender.py\u001b[0m in \u001b[0;36mrecommend\u001b[0;34m(self, user_id_array, cutoff, remove_seen_flag, items_to_compute, remove_top_pop_flag, remove_CustomItems_flag, return_scores)\u001b[0m\n\u001b[1;32m    192\u001b[0m \u001b[0;34m\u001b[0m\u001b[0m\n\u001b[1;32m    193\u001b[0m         \u001b[0;31m# relevant_items_partition is block_size x cutoff\u001b[0m\u001b[0;34m\u001b[0m\u001b[0;34m\u001b[0m\u001b[0;34m\u001b[0m\u001b[0m\n\u001b[0;32m--> 194\u001b[0;31m         \u001b[0mrelevant_items_partition\u001b[0m \u001b[0;34m=\u001b[0m \u001b[0;34m(\u001b[0m\u001b[0;34m-\u001b[0m\u001b[0mscores_batch\u001b[0m\u001b[0;34m)\u001b[0m\u001b[0;34m.\u001b[0m\u001b[0margpartition\u001b[0m\u001b[0;34m(\u001b[0m\u001b[0mcutoff\u001b[0m\u001b[0;34m,\u001b[0m \u001b[0maxis\u001b[0m\u001b[0;34m=\u001b[0m\u001b[0;36m1\u001b[0m\u001b[0;34m)\u001b[0m\u001b[0;34m[\u001b[0m\u001b[0;34m:\u001b[0m\u001b[0;34m,\u001b[0m\u001b[0;36m0\u001b[0m\u001b[0;34m:\u001b[0m\u001b[0mcutoff\u001b[0m\u001b[0;34m]\u001b[0m\u001b[0;34m\u001b[0m\u001b[0;34m\u001b[0m\u001b[0m\n\u001b[0m\u001b[1;32m    195\u001b[0m \u001b[0;34m\u001b[0m\u001b[0m\n\u001b[1;32m    196\u001b[0m         \u001b[0;31m# Get original value and sort it\u001b[0m\u001b[0;34m\u001b[0m\u001b[0;34m\u001b[0m\u001b[0;34m\u001b[0m\u001b[0m\n",
      "\u001b[0;31mKeyboardInterrupt\u001b[0m: "
     ]
    }
   ],
   "source": [
    "# Iterate over the different unimodals ICMs\n",
    "for ICM_item in ICM:\n",
    "    \n",
    "    # Iterate over HYPER-PARAMS values\n",
    "    topKValues = [100, 500, 1000]\n",
    "    shrinkValues = [10, 100, 200]\n",
    "\n",
    "    for topKValue in topKValues:\n",
    "        for shrinkValue in shrinkValues:\n",
    "            cbf_parameters = {\n",
    "                        'topK': topKValue,\n",
    "                        'shrink': shrinkValue,\n",
    "                        'similarity': 'cosine',\n",
    "                        'normalize': True,\n",
    "                        'feature_weighting': 'none' # Other options are BM25 and TF-IDF\n",
    "                     }\n",
    "\n",
    "            overall_result_dict = {}\n",
    "            for fold in range(0,len(URM_train)):\n",
    "\n",
    "                evaluator_test = EvaluatorHoldout(URM_test[fold], cutoff_list=[5], ignore_items=ignore_items)\n",
    "                recommender_content_based = ItemKNNCBFRecommender(ICM_item[1],URM_train[fold])\n",
    "                recommender_content_based.fit(**cbf_parameters)\n",
    "\n",
    "                result_dict, result_string = evaluator_test.evaluateRecommender(recommender_content_based)\n",
    "                for metric,value in list(result_dict.values())[0].items():\n",
    "                    currentValue = overall_result_dict.get(metric, 0)\n",
    "                    overall_result_dict[metric] = currentValue + value\n",
    "\n",
    "            for metric, value in overall_result_dict.items():\n",
    "                overall_result_dict[metric] = value/len(URM_train)\n",
    "\n",
    "            print(\"CBF recommendation quality is: {}\".format(result_string))\n",
    "\n",
    "            import json\n",
    "            json = json.dumps(overall_result_dict, indent=4)\n",
    "            filename = \"Results/CBF - ColdItemSplit/ICMtype_{}-topK_{}-shrink_{} - results.json\".format(ICM_item[0],topKValue,shrinkValue)\n",
    "            f = open(filename,\"w\")\n",
    "            f.write(json)\n",
    "            f.close()\n",
    "        "
   ]
  }
 ],
 "metadata": {
  "kernelspec": {
   "display_name": "Python 3",
   "language": "python",
   "name": "python3"
  },
  "language_info": {
   "codemirror_mode": {
    "name": "ipython",
    "version": 3
   },
   "file_extension": ".py",
   "mimetype": "text/x-python",
   "name": "python",
   "nbconvert_exporter": "python",
   "pygments_lexer": "ipython3",
   "version": "3.7.2"
  }
 },
 "nbformat": 4,
 "nbformat_minor": 2
}

{
 "cells": [
  {
   "cell_type": "markdown",
   "metadata": {},
   "source": [
    "# Imports"
   ]
  },
  {
   "cell_type": "code",
   "execution_count": 1,
   "metadata": {},
   "outputs": [],
   "source": [
    "import sys\n",
    "sys.path.append(\"..\")\n",
    "\n",
    "from KNN.ItemKNNCBFRecommender import ItemKNNCBFRecommender\n",
    "\n",
    "from Base.Evaluation.Evaluator import EvaluatorHoldout\n",
    "\n",
    "from Data_manager.MMTF14K.URM5Fold_WarmCold_Reader import URM5Fold_WarmCold_Reader\n",
    "from Data_manager.MMTF14K.URM5Fold_WarmCold_Splitter import URM5Fold_WarmCold_Splitter"
   ]
  },
  {
   "cell_type": "markdown",
   "metadata": {},
   "source": [
    "# Dataset selection and splitting"
   ]
  },
  {
   "cell_type": "markdown",
   "metadata": {},
   "source": [
    "### Dataset is downloaded and stored locally if absent"
   ]
  },
  {
   "cell_type": "code",
   "execution_count": 2,
   "metadata": {
    "scrolled": true
   },
   "outputs": [
    {
     "name": "stdout",
     "output_type": "stream",
     "text": [
      "URM5Fold_WarmCold_Splitter for DataReader: MMTF14K/Final_MMTF14K_Web/Data\n",
      "\t Num items: 13623\n",
      "\t Num users: 138492\n",
      "\n",
      "\t Statistics for fold 0: n_interactions 12471739 ( 20.00%), n_items 13623 ( 100.00%), density: 6.61E-03\n",
      "\t Statistics for fold 1: n_interactions 12471739 ( 20.00%), n_items 13623 ( 100.00%), density: 6.61E-03\n",
      "\t Statistics for fold 2: n_interactions 12471739 ( 20.00%), n_items 13623 ( 100.00%), density: 6.61E-03\n",
      "\t Statistics for fold 3: n_interactions 12471739 ( 20.00%), n_items 13623 ( 100.00%), density: 6.61E-03\n",
      "\t Statistics for fold 4: n_interactions 12471739 ( 20.00%), n_items 13623 ( 100.00%), density: 6.61E-03\n",
      "\n",
      "\n",
      "\t Statistics for ICM_1: n_features 18, feature occurrences 245214, density: 1.00E+00\n",
      "\t Statistics for ICM_2: n_features 18, feature occurrences 245214, density: 1.00E+00\n",
      "\t Statistics for ICM_3: n_features 18, feature occurrences 245214, density: 1.00E+00\n",
      "\t Statistics for ICM_4: n_features 18, feature occurrences 245214, density: 1.00E+00\n",
      "\t Statistics for ICM_5: n_features 18, feature occurrences 245214, density: 1.00E+00\n",
      "\n",
      "\n",
      "DataSplitter_k_fold: Done.\n"
     ]
    }
   ],
   "source": [
    "# Selecting a dataset\n",
    "dataReader = URM5Fold_WarmCold_Reader()\n",
    "\n",
    "# Splitting the dataset. This split will produce a warm item split\n",
    "# To replicate the original experimens use the dataset accessible here with a cold item split:\n",
    "# https://mmprj.github.io/mtrm_dataset/index\n",
    "dataSplitter = URM5Fold_WarmCold_Splitter(dataReader)\n",
    "dataSplitter.load_data()"
   ]
  },
  {
   "cell_type": "markdown",
   "metadata": {},
   "source": [
    "# Setup URM and ICM"
   ]
  },
  {
   "cell_type": "code",
   "execution_count": 3,
   "metadata": {},
   "outputs": [],
   "source": [
    "# TODO iterate over the 5 folds to perform 5-fold cross validation,\n",
    "# then evaluate and calculate performance metrics as the average on all the folds\n",
    "\n",
    "# Each URM is a scipy.sparse matrix of shape |users|x|items|\n",
    "URM_train, URM_test = dataSplitter.get_URM_train_for_test_fold(n_test_fold=1)\n",
    "\n",
    "# The ICM is a scipy.sparse matrix of shape |items|x|features|\n",
    "ICM = dataSplitter.get_ICM_from_name(\"ICM_1\")\n",
    "\n",
    "# This contains the items to be ignored during the evaluation step\n",
    "# In a cold items setting this should contain the indices of the warm items\n",
    "ignore_items = []"
   ]
  },
  {
   "cell_type": "markdown",
   "metadata": {},
   "source": [
    "# Setup evaluators"
   ]
  },
  {
   "cell_type": "code",
   "execution_count": 4,
   "metadata": {},
   "outputs": [
    {
     "name": "stdout",
     "output_type": "stream",
     "text": [
      "Ignoring 0 Items\n"
     ]
    }
   ],
   "source": [
    "evaluator_test = EvaluatorHoldout(URM_test, cutoff_list=[5], ignore_items=ignore_items)"
   ]
  },
  {
   "cell_type": "markdown",
   "metadata": {},
   "source": [
    "# CBF Setup parameters (TODO: Parameter tuning)"
   ]
  },
  {
   "cell_type": "code",
   "execution_count": 5,
   "metadata": {},
   "outputs": [],
   "source": [
    "# We compute the similarity matrix resulting from an Item KNN CBF Recommender\n",
    "# Note that we have not included the code for parameter tuning, which should be done\n",
    "\n",
    "cbf_parameters = {\n",
    "                    'topK': 500,\n",
    "                    'shrink': 100,\n",
    "                    'similarity': 'cosine',\n",
    "                    'normalize': True,\n",
    "                    'feature_weighting': 'none' # Other options are BM25 and TF-IDF\n",
    "                 }"
   ]
  },
  {
   "cell_type": "markdown",
   "metadata": {},
   "source": [
    "# CBF Recommender training and evaluation"
   ]
  },
  {
   "cell_type": "code",
   "execution_count": 6,
   "metadata": {},
   "outputs": [
    {
     "name": "stdout",
     "output_type": "stream",
     "text": [
      "Compute_Similarity: detected dense matrix\n",
      "Similarity column 13623 ( 100 % ), 2056.44 column/sec, elapsed time 0.11 min\n",
      "EvaluatorHoldout: Processed 45001 ( 32.69% ) in 30.34 sec. Users per second: 1483\n",
      "EvaluatorHoldout: Processed 99001 ( 71.91% ) in 1.01 min. Users per second: 1637\n",
      "EvaluatorHoldout: Processed 137677 ( 100.00% ) in 1.33 min. Users per second: 1725\n"
     ]
    }
   ],
   "source": [
    "recommender_content_based = ItemKNNCBFRecommender(ICM,URM_train)\n",
    "recommender_content_based.fit(**cbf_parameters)\n",
    "\n",
    "result_dict, result_string = evaluator_test.evaluateRecommender(recommender_content_based)"
   ]
  },
  {
   "cell_type": "code",
   "execution_count": 7,
   "metadata": {},
   "outputs": [
    {
     "name": "stdout",
     "output_type": "stream",
     "text": [
      "CBF recommendation quality is: CUTOFF: 5 - ROC_AUC: 0.0005865, PRECISION: 0.0003123, PRECISION_RECALL_MIN_DEN: 0.0003177, RECALL: 0.0000795, MAP: 0.0001137, MRR: 0.0005592, NDCG: 0.0000954, F1: 0.0001268, HIT_RATE: 0.0015616, ARHR: 0.0005592, RMSE: 0.9998754, NOVELTY: 0.0057565, DIVERSITY_MEAN_INTER_LIST: 0.9304599, DIVERSITY_HERFINDAHL: 0.9860906, COVERAGE_ITEM: 0.1601703, COVERAGE_USER: 1.0000000, DIVERSITY_GINI: 0.0744415, SHANNON_ENTROPY: 7.4190806, \n",
      "\n"
     ]
    }
   ],
   "source": [
    "print(\"CBF recommendation quality is: {}\".format(result_string))\n",
    "\n",
    "import json\n",
    "json = json.dumps(list(result_dict.values())[0], indent=4)\n",
    "f = open(\"Results/CBF - ColdItemSplit - results.json\",\"w\")\n",
    "f.write(json)\n",
    "f.close()"
   ]
  },
  {
   "cell_type": "code",
   "execution_count": null,
   "metadata": {},
   "outputs": [],
   "source": []
  }
 ],
 "metadata": {
  "kernelspec": {
   "display_name": "Python 3",
   "language": "python",
   "name": "python3"
  },
  "language_info": {
   "codemirror_mode": {
    "name": "ipython",
    "version": 3
   },
   "file_extension": ".py",
   "mimetype": "text/x-python",
   "name": "python",
   "nbconvert_exporter": "python",
   "pygments_lexer": "ipython3",
   "version": "3.7.2"
  }
 },
 "nbformat": 4,
 "nbformat_minor": 2
}

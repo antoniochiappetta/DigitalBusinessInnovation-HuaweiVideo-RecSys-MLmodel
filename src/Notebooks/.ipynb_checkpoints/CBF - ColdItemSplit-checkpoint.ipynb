{
 "cells": [
  {
   "cell_type": "markdown",
   "metadata": {},
   "source": [
    "# Imports"
   ]
  },
  {
   "cell_type": "code",
   "execution_count": 10,
   "metadata": {},
   "outputs": [],
   "source": [
    "import sys\n",
    "sys.path.append(\"..\")\n",
    "\n",
    "from KNN.ItemKNNCBFRecommender import ItemKNNCBFRecommender\n",
    "\n",
    "from Base.Evaluation.Evaluator import EvaluatorHoldout\n",
    "\n",
    "from Data_manager.MMTF14K.URM5Fold_WarmCold_Reader import URM5Fold_WarmCold_Reader\n",
    "from Data_manager.MMTF14K.URM5Fold_WarmCold_Splitter import URM5Fold_WarmCold_Splitter"
   ]
  },
  {
   "cell_type": "markdown",
   "metadata": {},
   "source": [
    "# Dataset selection and splitting"
   ]
  },
  {
   "cell_type": "markdown",
   "metadata": {},
   "source": [
    "### Dataset is downloaded and stored locally if absent"
   ]
  },
  {
   "cell_type": "code",
   "execution_count": 11,
   "metadata": {
    "scrolled": true
   },
   "outputs": [
    {
     "name": "stdout",
     "output_type": "stream",
     "text": [
      "URM5Fold_WarmCold_Splitter for DataReader: MMTF14K/Final_MMTF14K_Web/Data\n",
      "\t Num items: 13623\n",
      "\t Num users: 138492\n",
      "\n",
      "\t Statistics for fold 0: n_interactions 12471739 ( 20.00%), n_items 13623 ( 100.00%), density: 6.61E-03\n",
      "\t Statistics for fold 1: n_interactions 12471739 ( 20.00%), n_items 13623 ( 100.00%), density: 6.61E-03\n",
      "\t Statistics for fold 2: n_interactions 12471739 ( 20.00%), n_items 13623 ( 100.00%), density: 6.61E-03\n",
      "\t Statistics for fold 3: n_interactions 12471739 ( 20.00%), n_items 13623 ( 100.00%), density: 6.61E-03\n",
      "\t Statistics for fold 4: n_interactions 12471739 ( 20.00%), n_items 13623 ( 100.00%), density: 6.61E-03\n",
      "\n",
      "\n",
      "\t Statistics for ICM_1: n_features 100, feature occurrences 1362300, density: 1.00E+00\n",
      "\t Statistics for ICM_2: n_features 100, feature occurrences 1362300, density: 1.00E+00\n",
      "\t Statistics for ICM_3: n_features 100, feature occurrences 1362300, density: 1.00E+00\n",
      "\t Statistics for ICM_4: n_features 100, feature occurrences 1362300, density: 1.00E+00\n",
      "\t Statistics for ICM_5: n_features 100, feature occurrences 1362300, density: 1.00E+00\n",
      "\n",
      "\n",
      "DataSplitter_k_fold: Done.\n"
     ]
    }
   ],
   "source": [
    "# Selecting a dataset\n",
    "dataReader = URM5Fold_WarmCold_Reader()\n",
    "\n",
    "# Splitting the dataset. This split will produce a warm item split\n",
    "# To replicate the original experimens use the dataset accessible here with a cold item split:\n",
    "# https://mmprj.github.io/mtrm_dataset/index\n",
    "dataSplitter = URM5Fold_WarmCold_Splitter(dataReader)\n",
    "dataSplitter.load_data()"
   ]
  },
  {
   "cell_type": "markdown",
   "metadata": {},
   "source": [
    "# Setup URM and ICM"
   ]
  },
  {
   "cell_type": "code",
   "execution_count": 12,
   "metadata": {},
   "outputs": [],
   "source": [
    "# Each URM is a scipy.sparse matrix of shape |users|x|items|\n",
    "URM_train = [\n",
    "    dataSplitter.get_URM_train_for_test_fold(n_test_fold=1)[0],\n",
    "    dataSplitter.get_URM_train_for_test_fold(n_test_fold=2)[0],\n",
    "    dataSplitter.get_URM_train_for_test_fold(n_test_fold=3)[0],\n",
    "    dataSplitter.get_URM_train_for_test_fold(n_test_fold=4)[0],\n",
    "    dataSplitter.get_URM_train_for_test_fold(n_test_fold=5)[0]\n",
    "]\n",
    "\n",
    "URM_test = [\n",
    "    dataSplitter.get_URM_train_for_test_fold(n_test_fold=1)[1],\n",
    "    dataSplitter.get_URM_train_for_test_fold(n_test_fold=2)[1],\n",
    "    dataSplitter.get_URM_train_for_test_fold(n_test_fold=3)[1],\n",
    "    dataSplitter.get_URM_train_for_test_fold(n_test_fold=4)[1],\n",
    "    dataSplitter.get_URM_train_for_test_fold(n_test_fold=5)[1]\n",
    "]\n",
    "\n",
    "# The ICM is a scipy.sparse matrix of shape |items|x|features|\n",
    "ICM = [\n",
    "    dataSplitter.get_ICM_from_name(\"ICM_1\"),\n",
    "    dataSplitter.get_ICM_from_name(\"ICM_2\"),\n",
    "    dataSplitter.get_ICM_from_name(\"ICM_3\"),\n",
    "    dataSplitter.get_ICM_from_name(\"ICM_4\"),\n",
    "    dataSplitter.get_ICM_from_name(\"ICM_5\")\n",
    "]\n",
    "\n",
    "# This contains the items to be ignored during the evaluation step\n",
    "# In a cold items setting this should contain the indices of the warm items\n",
    "ignore_items = []"
   ]
  },
  {
   "cell_type": "markdown",
   "metadata": {},
   "source": [
    "# CBF Setup parameters (TODO: Parameter tuning)"
   ]
  },
  {
   "cell_type": "code",
   "execution_count": 13,
   "metadata": {},
   "outputs": [],
   "source": [
    "# We compute the similarity matrix resulting from an Item KNN CBF Recommender\n",
    "# Note that we have not included the code for parameter tuning, which should be done\n",
    "\n",
    "cbf_parameters = {\n",
    "                    'topK': 500,\n",
    "                    'shrink': 100,\n",
    "                    'similarity': 'cosine',\n",
    "                    'normalize': True,\n",
    "                    'feature_weighting': 'none' # Other options are BM25 and TF-IDF\n",
    "                 }"
   ]
  },
  {
   "cell_type": "markdown",
   "metadata": {},
   "source": [
    "# CBF Recommender training and evaluation"
   ]
  },
  {
   "cell_type": "code",
   "execution_count": 27,
   "metadata": {},
   "outputs": [
    {
     "name": "stdout",
     "output_type": "stream",
     "text": [
      "Ignoring 0 Items\n",
      "Compute_Similarity: detected dense matrix\n",
      "Similarity column 13623 ( 100 % ), 2025.73 column/sec, elapsed time 0.11 min\n",
      "EvaluatorHoldout: Processed 43821 ( 32.04% ) in 30.00 sec. Users per second: 1461\n",
      "EvaluatorHoldout: Processed 96001 ( 70.19% ) in 1.00 min. Users per second: 1599\n",
      "EvaluatorHoldout: Processed 136768 ( 100.00% ) in 1.33 min. Users per second: 1712\n"
     ]
    },
    {
     "ename": "AttributeError",
     "evalue": "'dict' object has no attribute 'append'",
     "output_type": "error",
     "traceback": [
      "\u001b[0;31m---------------------------------------------------------------------------\u001b[0m",
      "\u001b[0;31mAttributeError\u001b[0m                            Traceback (most recent call last)",
      "\u001b[0;32m<ipython-input-27-b5243900a1d2>\u001b[0m in \u001b[0;36m<module>\u001b[0;34m\u001b[0m\n\u001b[1;32m     10\u001b[0m         \u001b[0mcurrentValue\u001b[0m \u001b[0;34m=\u001b[0m \u001b[0moverall_result_dict\u001b[0m\u001b[0;34m.\u001b[0m\u001b[0mget\u001b[0m\u001b[0;34m(\u001b[0m\u001b[0mmetric\u001b[0m\u001b[0;34m,\u001b[0m \u001b[0;36m0\u001b[0m\u001b[0;34m)\u001b[0m\u001b[0;34m\u001b[0m\u001b[0;34m\u001b[0m\u001b[0m\n\u001b[1;32m     11\u001b[0m         \u001b[0;32mif\u001b[0m \u001b[0mcurrentValue\u001b[0m \u001b[0;34m==\u001b[0m \u001b[0;36m0\u001b[0m\u001b[0;34m:\u001b[0m\u001b[0;34m\u001b[0m\u001b[0;34m\u001b[0m\u001b[0m\n\u001b[0;32m---> 12\u001b[0;31m             \u001b[0moverall_result_dict\u001b[0m\u001b[0;34m.\u001b[0m\u001b[0mappend\u001b[0m\u001b[0;34m(\u001b[0m\u001b[0mmetric\u001b[0m\u001b[0;34m,\u001b[0m\u001b[0mcurrentValue\u001b[0m\u001b[0;34m)\u001b[0m\u001b[0;34m\u001b[0m\u001b[0;34m\u001b[0m\u001b[0m\n\u001b[0m\u001b[1;32m     13\u001b[0m         \u001b[0moverall_result_dict\u001b[0m\u001b[0;34m[\u001b[0m\u001b[0mmetric\u001b[0m\u001b[0;34m]\u001b[0m \u001b[0;34m=\u001b[0m \u001b[0mcurrentValue\u001b[0m \u001b[0;34m+\u001b[0m \u001b[0mvalue\u001b[0m\u001b[0;34m\u001b[0m\u001b[0;34m\u001b[0m\u001b[0m\n\u001b[1;32m     14\u001b[0m \u001b[0;34m\u001b[0m\u001b[0m\n",
      "\u001b[0;31mAttributeError\u001b[0m: 'dict' object has no attribute 'append'"
     ]
    }
   ],
   "source": [
    "overall_result_dict = {}\n",
    "for fold in range(0,len(ICM)):\n",
    "    \n",
    "    evaluator_test = EvaluatorHoldout(URM_test[fold], cutoff_list=[5], ignore_items=ignore_items)\n",
    "    recommender_content_based = ItemKNNCBFRecommender(ICM[fold],URM_train[fold])\n",
    "    recommender_content_based.fit(**cbf_parameters)\n",
    "    \n",
    "    result_dict, result_string = evaluator_test.evaluateRecommender(recommender_content_based)\n",
    "    for metric,value in list(result_dict.values())[0].items():\n",
    "        currentValue = overall_result_dict.get(metric, 0)\n",
    "        overall_result_dict[metric] = currentValue + value\n",
    "        \n",
    "for metric, value in overall_result_dic.items():\n",
    "    overall_result_dict[metric] = value/len(ICM)"
   ]
  },
  {
   "cell_type": "code",
   "execution_count": 24,
   "metadata": {},
   "outputs": [
    {
     "name": "stdout",
     "output_type": "stream",
     "text": [
      "CBF recommendation quality is: CUTOFF: 5 - ROC_AUC: 0.0059390, PRECISION: 0.0031038, PRECISION_RECALL_MIN_DEN: 0.0032148, RECALL: 0.0008297, MAP: 0.0012302, MRR: 0.0055383, NDCG: 0.0009911, F1: 0.0013094, HIT_RATE: 0.0155191, ARHR: 0.0057532, RMSE: 0.9999483, NOVELTY: 0.0043637, DIVERSITY_MEAN_INTER_LIST: 0.8822034, DIVERSITY_HERFINDAHL: 0.9764394, COVERAGE_ITEM: 0.3933788, COVERAGE_USER: 1.0000000, DIVERSITY_GINI: 0.0650325, SHANNON_ENTROPY: 7.4979640, \n",
      "\n",
      "ROC_AUC\n",
      "0.005938997566054643\n",
      "PRECISION\n",
      "0.003103829618942189\n",
      "PRECISION_RECALL_MIN_DEN\n",
      "0.0032147853025830037\n",
      "RECALL\n",
      "0.0008297023586782257\n",
      "MAP\n",
      "0.0012302430120704373\n",
      "MRR\n",
      "0.005538263232289247\n",
      "NDCG\n",
      "0.000991077010376108\n",
      "F1\n",
      "0.0013093854431200376\n",
      "HIT_RATE\n",
      "0.015519148094711478\n",
      "ARHR\n",
      "0.005753216982444889\n",
      "RMSE\n",
      "0.9999483381817624\n",
      "NOVELTY\n",
      "0.0043636783536005475\n",
      "DIVERSITY_MEAN_INTER_LIST\n",
      "0.8822033589581597\n",
      "DIVERSITY_HERFINDAHL\n",
      "0.9764393795741164\n",
      "COVERAGE_ITEM\n",
      "0.39337884460104233\n",
      "COVERAGE_USER\n",
      "1.0\n",
      "DIVERSITY_GINI\n",
      "0.06503254612605015\n",
      "SHANNON_ENTROPY\n",
      "7.4979640412043285\n"
     ]
    }
   ],
   "source": [
    "print(\"CBF recommendation quality is: {}\".format(result_string))\n",
    "\n",
    "import json\n",
    "json = json.dumps(list(overall_result_dict.values())[0], indent=4)\n",
    "f = open(\"Results/CBF - ColdItemSplit - results.json\",\"w\")\n",
    "f.write(json)\n",
    "f.close()"
   ]
  },
  {
   "cell_type": "code",
   "execution_count": null,
   "metadata": {},
   "outputs": [],
   "source": []
  }
 ],
 "metadata": {
  "kernelspec": {
   "display_name": "Python 3",
   "language": "python",
   "name": "python3"
  },
  "language_info": {
   "codemirror_mode": {
    "name": "ipython",
    "version": 3
   },
   "file_extension": ".py",
   "mimetype": "text/x-python",
   "name": "python",
   "nbconvert_exporter": "python",
   "pygments_lexer": "ipython3",
   "version": "3.7.2"
  }
 },
 "nbformat": 4,
 "nbformat_minor": 2
}

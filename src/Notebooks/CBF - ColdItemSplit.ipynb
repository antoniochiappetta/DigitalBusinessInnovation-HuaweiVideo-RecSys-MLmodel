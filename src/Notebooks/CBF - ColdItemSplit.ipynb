{
 "cells": [
  {
   "cell_type": "markdown",
   "metadata": {},
   "source": [
    "# Imports"
   ]
  },
  {
   "cell_type": "code",
   "execution_count": 1,
   "metadata": {},
   "outputs": [],
   "source": [
    "import sys\n",
    "sys.path.append(\"..\")\n",
    "\n",
    "from KNN.ItemKNNCBFRecommender import ItemKNNCBFRecommender\n",
    "\n",
    "from Base.Evaluation.Evaluator import EvaluatorHoldout\n",
    "\n",
    "from Data_manager.MMTF14K.URM5Fold_WarmCold_Reader import URM5Fold_WarmCold_Reader\n",
    "from Data_manager.MMTF14K.URM5Fold_WarmCold_Splitter import URM5Fold_WarmCold_Splitter"
   ]
  },
  {
   "cell_type": "markdown",
   "metadata": {},
   "source": [
    "# Dataset selection and splitting"
   ]
  },
  {
   "cell_type": "markdown",
   "metadata": {},
   "source": [
    "### Dataset is downloaded and stored locally if absent"
   ]
  },
  {
   "cell_type": "code",
   "execution_count": 2,
   "metadata": {
    "scrolled": true
   },
   "outputs": [
    {
     "name": "stdout",
     "output_type": "stream",
     "text": [
      "DataSplitter_k_fold: Preloaded data not found, reading from original files...\n",
      "DataReader: Loading Data_manager_split_datasets/MMTF14K/Final_MMTF14K_Web/Data/original/ICM_genre...\n",
      "DataReader: Preloaded data not found, reading from original files...\n",
      "URM5Fold_WarmCold_Reader: Loading original data ICM\n",
      "Generating ICMs for Metadata features\n",
      "Generating ICMs for Audio features\n"
     ]
    },
    {
     "ename": "BadZipFile",
     "evalue": "Truncated file header",
     "output_type": "error",
     "traceback": [
      "\u001b[0;31m---------------------------------------------------------------------------\u001b[0m",
      "\u001b[0;31mFileNotFoundError\u001b[0m                         Traceback (most recent call last)",
      "\u001b[0;32m~/OneDrive - Politecnico di Milano/PoliMi/Course - Digital Business Innovation/Project/Repo/recsys-videostreaming/src/Data_manager/DataSplitter.py\u001b[0m in \u001b[0;36mload_data\u001b[0;34m(self, save_folder_path)\u001b[0m\n\u001b[1;32m     97\u001b[0m \u001b[0;34m\u001b[0m\u001b[0m\n\u001b[0;32m---> 98\u001b[0;31m                 \u001b[0mself\u001b[0m\u001b[0;34m.\u001b[0m\u001b[0m_load_previously_built_split_and_attributes\u001b[0m\u001b[0;34m(\u001b[0m\u001b[0msave_folder_path\u001b[0m\u001b[0;34m)\u001b[0m\u001b[0;34m\u001b[0m\u001b[0;34m\u001b[0m\u001b[0m\n\u001b[0m\u001b[1;32m     99\u001b[0m \u001b[0;34m\u001b[0m\u001b[0m\n",
      "\u001b[0;32m~/OneDrive - Politecnico di Milano/PoliMi/Course - Digital Business Innovation/Project/Repo/recsys-videostreaming/src/Data_manager/MMTF14K/URM5Fold_WarmCold_Splitter.py\u001b[0m in \u001b[0;36m_load_previously_built_split_and_attributes\u001b[0;34m(self, save_folder_path)\u001b[0m\n\u001b[1;32m    214\u001b[0m \u001b[0;34m\u001b[0m\u001b[0m\n\u001b[0;32m--> 215\u001b[0;31m         \u001b[0mdata_dict\u001b[0m \u001b[0;34m=\u001b[0m \u001b[0mpickle\u001b[0m\u001b[0;34m.\u001b[0m\u001b[0mload\u001b[0m\u001b[0;34m(\u001b[0m\u001b[0mopen\u001b[0m\u001b[0;34m(\u001b[0m\u001b[0msave_folder_path\u001b[0m \u001b[0;34m+\u001b[0m \u001b[0;34m\"URM_{}_fold_split\"\u001b[0m\u001b[0;34m.\u001b[0m\u001b[0mformat\u001b[0m\u001b[0;34m(\u001b[0m\u001b[0mself\u001b[0m\u001b[0;34m.\u001b[0m\u001b[0mn_folds\u001b[0m\u001b[0;34m)\u001b[0m\u001b[0;34m,\u001b[0m \u001b[0;34m\"rb\"\u001b[0m\u001b[0;34m)\u001b[0m\u001b[0;34m)\u001b[0m\u001b[0;34m\u001b[0m\u001b[0;34m\u001b[0m\u001b[0m\n\u001b[0m\u001b[1;32m    216\u001b[0m \u001b[0;34m\u001b[0m\u001b[0m\n",
      "\u001b[0;31mFileNotFoundError\u001b[0m: [Errno 2] No such file or directory: 'Data_manager_split_datasets/MMTF14K/Final_MMTF14K_Web/Data/5_fold/original/URM_5_fold_split'",
      "\nDuring handling of the above exception, another exception occurred:\n",
      "\u001b[0;31mBadZipFile\u001b[0m                                Traceback (most recent call last)",
      "\u001b[0;32m<ipython-input-2-c72b65cc0a7f>\u001b[0m in \u001b[0;36m<module>\u001b[0;34m\u001b[0m\n\u001b[1;32m      6\u001b[0m \u001b[0;31m# https://mmprj.github.io/mtrm_dataset/index\u001b[0m\u001b[0;34m\u001b[0m\u001b[0;34m\u001b[0m\u001b[0;34m\u001b[0m\u001b[0m\n\u001b[1;32m      7\u001b[0m \u001b[0mdataSplitter\u001b[0m \u001b[0;34m=\u001b[0m \u001b[0mURM5Fold_WarmCold_Splitter\u001b[0m\u001b[0;34m(\u001b[0m\u001b[0mdataReader\u001b[0m\u001b[0;34m)\u001b[0m\u001b[0;34m\u001b[0m\u001b[0;34m\u001b[0m\u001b[0m\n\u001b[0;32m----> 8\u001b[0;31m \u001b[0mdataSplitter\u001b[0m\u001b[0;34m.\u001b[0m\u001b[0mload_data\u001b[0m\u001b[0;34m(\u001b[0m\u001b[0;34m)\u001b[0m\u001b[0;34m\u001b[0m\u001b[0;34m\u001b[0m\u001b[0m\n\u001b[0m",
      "\u001b[0;32m~/OneDrive - Politecnico di Milano/PoliMi/Course - Digital Business Innovation/Project/Repo/recsys-videostreaming/src/Data_manager/DataSplitter.py\u001b[0m in \u001b[0;36mload_data\u001b[0;34m(self, save_folder_path)\u001b[0m\n\u001b[1;32m    111\u001b[0m                         \u001b[0mos\u001b[0m\u001b[0;34m.\u001b[0m\u001b[0mmakedirs\u001b[0m\u001b[0;34m(\u001b[0m\u001b[0msave_folder_path\u001b[0m\u001b[0;34m)\u001b[0m\u001b[0;34m\u001b[0m\u001b[0;34m\u001b[0m\u001b[0m\n\u001b[1;32m    112\u001b[0m \u001b[0;34m\u001b[0m\u001b[0m\n\u001b[0;32m--> 113\u001b[0;31m                     \u001b[0mself\u001b[0m\u001b[0;34m.\u001b[0m\u001b[0m_split_data_from_original_dataset\u001b[0m\u001b[0;34m(\u001b[0m\u001b[0msave_folder_path\u001b[0m\u001b[0;34m)\u001b[0m\u001b[0;34m\u001b[0m\u001b[0;34m\u001b[0m\u001b[0m\n\u001b[0m\u001b[1;32m    114\u001b[0m                     \u001b[0mself\u001b[0m\u001b[0;34m.\u001b[0m\u001b[0m_load_previously_built_split_and_attributes\u001b[0m\u001b[0;34m(\u001b[0m\u001b[0msave_folder_path\u001b[0m\u001b[0;34m)\u001b[0m\u001b[0;34m\u001b[0m\u001b[0;34m\u001b[0m\u001b[0m\n\u001b[1;32m    115\u001b[0m \u001b[0;34m\u001b[0m\u001b[0m\n",
      "\u001b[0;32m~/OneDrive - Politecnico di Milano/PoliMi/Course - Digital Business Innovation/Project/Repo/recsys-videostreaming/src/Data_manager/MMTF14K/URM5Fold_WarmCold_Splitter.py\u001b[0m in \u001b[0;36m_split_data_from_original_dataset\u001b[0;34m(self, save_folder_path)\u001b[0m\n\u001b[1;32m    133\u001b[0m     \u001b[0;32mdef\u001b[0m \u001b[0m_split_data_from_original_dataset\u001b[0m\u001b[0;34m(\u001b[0m\u001b[0mself\u001b[0m\u001b[0;34m,\u001b[0m \u001b[0msave_folder_path\u001b[0m\u001b[0;34m)\u001b[0m\u001b[0;34m:\u001b[0m\u001b[0;34m\u001b[0m\u001b[0;34m\u001b[0m\u001b[0m\n\u001b[1;32m    134\u001b[0m \u001b[0;34m\u001b[0m\u001b[0m\n\u001b[0;32m--> 135\u001b[0;31m         \u001b[0mself\u001b[0m\u001b[0;34m.\u001b[0m\u001b[0mdataReader_object\u001b[0m\u001b[0;34m.\u001b[0m\u001b[0mload_data\u001b[0m\u001b[0;34m(\u001b[0m\u001b[0;34m)\u001b[0m\u001b[0;34m\u001b[0m\u001b[0;34m\u001b[0m\u001b[0m\n\u001b[0m\u001b[1;32m    136\u001b[0m \u001b[0;34m\u001b[0m\u001b[0m\n\u001b[1;32m    137\u001b[0m         \u001b[0mURM_train_1\u001b[0m \u001b[0;34m=\u001b[0m \u001b[0mself\u001b[0m\u001b[0;34m.\u001b[0m\u001b[0mdataReader_object\u001b[0m\u001b[0;34m.\u001b[0m\u001b[0mget_URM_from_name\u001b[0m\u001b[0;34m(\u001b[0m\u001b[0;34m\"URM_train_1\"\u001b[0m\u001b[0;34m)\u001b[0m\u001b[0;34m\u001b[0m\u001b[0;34m\u001b[0m\u001b[0m\n",
      "\u001b[0;32m~/OneDrive - Politecnico di Milano/PoliMi/Course - Digital Business Innovation/Project/Repo/recsys-videostreaming/src/Data_manager/DataReader.py\u001b[0m in \u001b[0;36mload_data\u001b[0;34m(self, save_folder_path)\u001b[0m\n\u001b[1;32m    228\u001b[0m \u001b[0;34m\u001b[0m\u001b[0m\n\u001b[1;32m    229\u001b[0m \u001b[0;34m\u001b[0m\u001b[0m\n\u001b[0;32m--> 230\u001b[0;31m         \u001b[0mself\u001b[0m\u001b[0;34m.\u001b[0m\u001b[0m_load_from_original_file\u001b[0m\u001b[0;34m(\u001b[0m\u001b[0;34m)\u001b[0m\u001b[0;34m\u001b[0m\u001b[0;34m\u001b[0m\u001b[0m\n\u001b[0m\u001b[1;32m    231\u001b[0m \u001b[0;34m\u001b[0m\u001b[0m\n\u001b[1;32m    232\u001b[0m         \u001b[0mprint\u001b[0m\u001b[0;34m(\u001b[0m\u001b[0;34m\"DataReader: verifying data consistency...\"\u001b[0m\u001b[0;34m)\u001b[0m\u001b[0;34m\u001b[0m\u001b[0;34m\u001b[0m\u001b[0m\n",
      "\u001b[0;32m~/OneDrive - Politecnico di Milano/PoliMi/Course - Digital Business Innovation/Project/Repo/recsys-videostreaming/src/Data_manager/MMTF14K/URM5Fold_WarmCold_Reader.py\u001b[0m in \u001b[0;36m_load_from_original_file\u001b[0;34m(self)\u001b[0m\n\u001b[1;32m     65\u001b[0m         \u001b[0mprint\u001b[0m\u001b[0;34m(\u001b[0m\u001b[0;34m\"Generating ICMs for Audio features\"\u001b[0m\u001b[0;34m)\u001b[0m\u001b[0;34m\u001b[0m\u001b[0;34m\u001b[0m\u001b[0m\n\u001b[1;32m     66\u001b[0m \u001b[0;34m\u001b[0m\u001b[0m\n\u001b[0;32m---> 67\u001b[0;31m         \u001b[0mICM_BLF_path\u001b[0m \u001b[0;34m=\u001b[0m \u001b[0mdataFile_ICM\u001b[0m\u001b[0;34m.\u001b[0m\u001b[0mextract\u001b[0m\u001b[0;34m(\u001b[0m\u001b[0;34m\"Final_MMTF14K_Web/Audio/BLF/All/blf_sim_matrix.csv\"\u001b[0m\u001b[0;34m,\u001b[0m \u001b[0mpath\u001b[0m\u001b[0;34m=\u001b[0m\u001b[0mzipFile_path_ICM\u001b[0m \u001b[0;34m+\u001b[0m \u001b[0;34m\"decompressed\"\u001b[0m\u001b[0;34m)\u001b[0m\u001b[0;34m\u001b[0m\u001b[0;34m\u001b[0m\u001b[0m\n\u001b[0m\u001b[1;32m     68\u001b[0m         \u001b[0mICM_ivector_1_path\u001b[0m \u001b[0;34m=\u001b[0m \u001b[0mdataFile_ICM\u001b[0m\u001b[0;34m.\u001b[0m\u001b[0mextract\u001b[0m\u001b[0;34m(\u001b[0m\u001b[0;34m\"Final_MMTF14K_Web/Audio/ivector_features/IVec_splitItem_fold_1_gmm_512_tvDim_100.csv\"\u001b[0m\u001b[0;34m,\u001b[0m \u001b[0mpath\u001b[0m\u001b[0;34m=\u001b[0m\u001b[0mzipFile_path_ICM\u001b[0m \u001b[0;34m+\u001b[0m \u001b[0;34m\"decompressed\"\u001b[0m\u001b[0;34m)\u001b[0m\u001b[0;34m\u001b[0m\u001b[0;34m\u001b[0m\u001b[0m\n\u001b[1;32m     69\u001b[0m         \u001b[0mICM_ivector_2_path\u001b[0m \u001b[0;34m=\u001b[0m \u001b[0mdataFile_ICM\u001b[0m\u001b[0;34m.\u001b[0m\u001b[0mextract\u001b[0m\u001b[0;34m(\u001b[0m\u001b[0;34m\"Final_MMTF14K_Web/Audio/ivector_features/IVec_splitItem_fold_2_gmm_512_tvDim_100.csv\"\u001b[0m\u001b[0;34m,\u001b[0m \u001b[0mpath\u001b[0m\u001b[0;34m=\u001b[0m\u001b[0mzipFile_path_ICM\u001b[0m \u001b[0;34m+\u001b[0m \u001b[0;34m\"decompressed\"\u001b[0m\u001b[0;34m)\u001b[0m\u001b[0;34m\u001b[0m\u001b[0;34m\u001b[0m\u001b[0m\n",
      "\u001b[0;32m/Library/Frameworks/Python.framework/Versions/3.7/lib/python3.7/zipfile.py\u001b[0m in \u001b[0;36mextract\u001b[0;34m(self, member, path, pwd)\u001b[0m\n\u001b[1;32m   1597\u001b[0m             \u001b[0mpath\u001b[0m \u001b[0;34m=\u001b[0m \u001b[0mos\u001b[0m\u001b[0;34m.\u001b[0m\u001b[0mfspath\u001b[0m\u001b[0;34m(\u001b[0m\u001b[0mpath\u001b[0m\u001b[0;34m)\u001b[0m\u001b[0;34m\u001b[0m\u001b[0;34m\u001b[0m\u001b[0m\n\u001b[1;32m   1598\u001b[0m \u001b[0;34m\u001b[0m\u001b[0m\n\u001b[0;32m-> 1599\u001b[0;31m         \u001b[0;32mreturn\u001b[0m \u001b[0mself\u001b[0m\u001b[0;34m.\u001b[0m\u001b[0m_extract_member\u001b[0m\u001b[0;34m(\u001b[0m\u001b[0mmember\u001b[0m\u001b[0;34m,\u001b[0m \u001b[0mpath\u001b[0m\u001b[0;34m,\u001b[0m \u001b[0mpwd\u001b[0m\u001b[0;34m)\u001b[0m\u001b[0;34m\u001b[0m\u001b[0;34m\u001b[0m\u001b[0m\n\u001b[0m\u001b[1;32m   1600\u001b[0m \u001b[0;34m\u001b[0m\u001b[0m\n\u001b[1;32m   1601\u001b[0m     \u001b[0;32mdef\u001b[0m \u001b[0mextractall\u001b[0m\u001b[0;34m(\u001b[0m\u001b[0mself\u001b[0m\u001b[0;34m,\u001b[0m \u001b[0mpath\u001b[0m\u001b[0;34m=\u001b[0m\u001b[0;32mNone\u001b[0m\u001b[0;34m,\u001b[0m \u001b[0mmembers\u001b[0m\u001b[0;34m=\u001b[0m\u001b[0;32mNone\u001b[0m\u001b[0;34m,\u001b[0m \u001b[0mpwd\u001b[0m\u001b[0;34m=\u001b[0m\u001b[0;32mNone\u001b[0m\u001b[0;34m)\u001b[0m\u001b[0;34m:\u001b[0m\u001b[0;34m\u001b[0m\u001b[0;34m\u001b[0m\u001b[0m\n",
      "\u001b[0;32m/Library/Frameworks/Python.framework/Versions/3.7/lib/python3.7/zipfile.py\u001b[0m in \u001b[0;36m_extract_member\u001b[0;34m(self, member, targetpath, pwd)\u001b[0m\n\u001b[1;32m   1667\u001b[0m             \u001b[0;32mreturn\u001b[0m \u001b[0mtargetpath\u001b[0m\u001b[0;34m\u001b[0m\u001b[0;34m\u001b[0m\u001b[0m\n\u001b[1;32m   1668\u001b[0m \u001b[0;34m\u001b[0m\u001b[0m\n\u001b[0;32m-> 1669\u001b[0;31m         \u001b[0;32mwith\u001b[0m \u001b[0mself\u001b[0m\u001b[0;34m.\u001b[0m\u001b[0mopen\u001b[0m\u001b[0;34m(\u001b[0m\u001b[0mmember\u001b[0m\u001b[0;34m,\u001b[0m \u001b[0mpwd\u001b[0m\u001b[0;34m=\u001b[0m\u001b[0mpwd\u001b[0m\u001b[0;34m)\u001b[0m \u001b[0;32mas\u001b[0m \u001b[0msource\u001b[0m\u001b[0;34m,\u001b[0m\u001b[0;31m \u001b[0m\u001b[0;31m\\\u001b[0m\u001b[0;34m\u001b[0m\u001b[0;34m\u001b[0m\u001b[0m\n\u001b[0m\u001b[1;32m   1670\u001b[0m              \u001b[0mopen\u001b[0m\u001b[0;34m(\u001b[0m\u001b[0mtargetpath\u001b[0m\u001b[0;34m,\u001b[0m \u001b[0;34m\"wb\"\u001b[0m\u001b[0;34m)\u001b[0m \u001b[0;32mas\u001b[0m \u001b[0mtarget\u001b[0m\u001b[0;34m:\u001b[0m\u001b[0;34m\u001b[0m\u001b[0;34m\u001b[0m\u001b[0m\n\u001b[1;32m   1671\u001b[0m             \u001b[0mshutil\u001b[0m\u001b[0;34m.\u001b[0m\u001b[0mcopyfileobj\u001b[0m\u001b[0;34m(\u001b[0m\u001b[0msource\u001b[0m\u001b[0;34m,\u001b[0m \u001b[0mtarget\u001b[0m\u001b[0;34m)\u001b[0m\u001b[0;34m\u001b[0m\u001b[0;34m\u001b[0m\u001b[0m\n",
      "\u001b[0;32m/Library/Frameworks/Python.framework/Versions/3.7/lib/python3.7/zipfile.py\u001b[0m in \u001b[0;36mopen\u001b[0;34m(self, name, mode, pwd, force_zip64)\u001b[0m\n\u001b[1;32m   1483\u001b[0m             \u001b[0mfheader\u001b[0m \u001b[0;34m=\u001b[0m \u001b[0mzef_file\u001b[0m\u001b[0;34m.\u001b[0m\u001b[0mread\u001b[0m\u001b[0;34m(\u001b[0m\u001b[0msizeFileHeader\u001b[0m\u001b[0;34m)\u001b[0m\u001b[0;34m\u001b[0m\u001b[0;34m\u001b[0m\u001b[0m\n\u001b[1;32m   1484\u001b[0m             \u001b[0;32mif\u001b[0m \u001b[0mlen\u001b[0m\u001b[0;34m(\u001b[0m\u001b[0mfheader\u001b[0m\u001b[0;34m)\u001b[0m \u001b[0;34m!=\u001b[0m \u001b[0msizeFileHeader\u001b[0m\u001b[0;34m:\u001b[0m\u001b[0;34m\u001b[0m\u001b[0;34m\u001b[0m\u001b[0m\n\u001b[0;32m-> 1485\u001b[0;31m                 \u001b[0;32mraise\u001b[0m \u001b[0mBadZipFile\u001b[0m\u001b[0;34m(\u001b[0m\u001b[0;34m\"Truncated file header\"\u001b[0m\u001b[0;34m)\u001b[0m\u001b[0;34m\u001b[0m\u001b[0;34m\u001b[0m\u001b[0m\n\u001b[0m\u001b[1;32m   1486\u001b[0m             \u001b[0mfheader\u001b[0m \u001b[0;34m=\u001b[0m \u001b[0mstruct\u001b[0m\u001b[0;34m.\u001b[0m\u001b[0munpack\u001b[0m\u001b[0;34m(\u001b[0m\u001b[0mstructFileHeader\u001b[0m\u001b[0;34m,\u001b[0m \u001b[0mfheader\u001b[0m\u001b[0;34m)\u001b[0m\u001b[0;34m\u001b[0m\u001b[0;34m\u001b[0m\u001b[0m\n\u001b[1;32m   1487\u001b[0m             \u001b[0;32mif\u001b[0m \u001b[0mfheader\u001b[0m\u001b[0;34m[\u001b[0m\u001b[0m_FH_SIGNATURE\u001b[0m\u001b[0;34m]\u001b[0m \u001b[0;34m!=\u001b[0m \u001b[0mstringFileHeader\u001b[0m\u001b[0;34m:\u001b[0m\u001b[0;34m\u001b[0m\u001b[0;34m\u001b[0m\u001b[0m\n",
      "\u001b[0;31mBadZipFile\u001b[0m: Truncated file header"
     ]
    }
   ],
   "source": [
    "# Selecting a dataset\n",
    "dataReader = URM5Fold_WarmCold_Reader()\n",
    "\n",
    "# Splitting the dataset. This split will produce a warm item split\n",
    "# To replicate the original experimens use the dataset accessible here with a cold item split:\n",
    "# https://mmprj.github.io/mtrm_dataset/index\n",
    "dataSplitter = URM5Fold_WarmCold_Splitter(dataReader)\n",
    "dataSplitter.load_data()"
   ]
  },
  {
   "cell_type": "markdown",
   "metadata": {},
   "source": [
    "# Setup URM and ICM"
   ]
  },
  {
   "cell_type": "code",
   "execution_count": null,
   "metadata": {},
   "outputs": [],
   "source": [
    "# Each URM is a scipy.sparse matrix of shape |users|x|items|\n",
    "URM_train = [\n",
    "    dataSplitter.get_URM_train_for_test_fold(n_test_fold=1)[0],\n",
    "    dataSplitter.get_URM_train_for_test_fold(n_test_fold=2)[0],\n",
    "    dataSplitter.get_URM_train_for_test_fold(n_test_fold=3)[0],\n",
    "    dataSplitter.get_URM_train_for_test_fold(n_test_fold=4)[0],\n",
    "    dataSplitter.get_URM_train_for_test_fold(n_test_fold=5)[0]\n",
    "]\n",
    "\n",
    "URM_test = [\n",
    "    dataSplitter.get_URM_train_for_test_fold(n_test_fold=1)[1],\n",
    "    dataSplitter.get_URM_train_for_test_fold(n_test_fold=2)[1],\n",
    "    dataSplitter.get_URM_train_for_test_fold(n_test_fold=3)[1],\n",
    "    dataSplitter.get_URM_train_for_test_fold(n_test_fold=4)[1],\n",
    "    dataSplitter.get_URM_train_for_test_fold(n_test_fold=5)[1]\n",
    "]\n",
    "\n",
    "# The ICM is a scipy.sparse matrix of shape |items|x|features|\n",
    "ICM = [\n",
    "    dataSplitter.get_ICM_from_name(\"ICM_ivector_1\"),\n",
    "    dataSplitter.get_ICM_from_name(\"ICM_ivector_2\"),\n",
    "    dataSplitter.get_ICM_from_name(\"ICM_ivector_3\"),\n",
    "    dataSplitter.get_ICM_from_name(\"ICM_ivector_4\"),\n",
    "    dataSplitter.get_ICM_from_name(\"ICM_ivector_5\")\n",
    "]\n",
    "\n",
    "# This contains the items to be ignored during the evaluation step\n",
    "# In a cold items setting this should contain the indices of the warm items\n",
    "ignore_items = []"
   ]
  },
  {
   "cell_type": "markdown",
   "metadata": {},
   "source": [
    "# CBF Setup parameters (TODO: Parameter tuning)"
   ]
  },
  {
   "cell_type": "code",
   "execution_count": null,
   "metadata": {},
   "outputs": [],
   "source": [
    "# We compute the similarity matrix resulting from an Item KNN CBF Recommender\n",
    "# Note that we have not included the code for parameter tuning, which should be done\n",
    "\n",
    "cbf_parameters = {\n",
    "                    'topK': 500,\n",
    "                    'shrink': 100,\n",
    "                    'similarity': 'cosine',\n",
    "                    'normalize': True,\n",
    "                    'feature_weighting': 'none' # Other options are BM25 and TF-IDF\n",
    "                 }"
   ]
  },
  {
   "cell_type": "markdown",
   "metadata": {},
   "source": [
    "# CBF Recommender training and evaluation"
   ]
  },
  {
   "cell_type": "code",
   "execution_count": null,
   "metadata": {},
   "outputs": [],
   "source": [
    "topKvalues = [100, 500, 1000]\n",
    "\n",
    "cbf_parameters = {\n",
    "                    'topK': 500,\n",
    "                    'shrink': 100,\n",
    "                    'similarity': 'cosine',\n",
    "                    'normalize': True,\n",
    "                    'feature_weighting': 'none' # Other options are BM25 and TF-IDF\n",
    "                 }\n",
    "\n",
    "overall_result_dict = {}\n",
    "for fold in range(0,len(ICM)):\n",
    "    \n",
    "    evaluator_test = EvaluatorHoldout(URM_test[fold], cutoff_list=[5], ignore_items=ignore_items)\n",
    "    recommender_content_based = ItemKNNCBFRecommender(ICM[fold],URM_train[fold])\n",
    "    recommender_content_based.fit(**cbf_parameters)\n",
    "    \n",
    "    result_dict, result_string = evaluator_test.evaluateRecommender(recommender_content_based)\n",
    "    for metric,value in list(result_dict.values())[0].items():\n",
    "        currentValue = overall_result_dict.get(metric, 0)\n",
    "        overall_result_dict[metric] = currentValue + value\n",
    "        \n",
    "for metric, value in overall_result_dict.items():\n",
    "    overall_result_dict[metric] = value/len(ICM)"
   ]
  },
  {
   "cell_type": "code",
   "execution_count": null,
   "metadata": {},
   "outputs": [],
   "source": [
    "print(\"CBF recommendation quality is: {}\".format(result_string))\n",
    "\n",
    "import json\n",
    "json = json.dumps(list(overall_result_dict.values())[0], indent=4)\n",
    "f = open(\"Results/CBF - ColdItemSplit - results.json\",\"w\")\n",
    "f.write(json)\n",
    "f.close()"
   ]
  },
  {
   "cell_type": "code",
   "execution_count": null,
   "metadata": {},
   "outputs": [],
   "source": []
  },
  {
   "cell_type": "code",
   "execution_count": null,
   "metadata": {},
   "outputs": [],
   "source": []
  }
 ],
 "metadata": {
  "kernelspec": {
   "display_name": "Python 3",
   "language": "python",
   "name": "python3"
  },
  "language_info": {
   "codemirror_mode": {
    "name": "ipython",
    "version": 3
   },
   "file_extension": ".py",
   "mimetype": "text/x-python",
   "name": "python",
   "nbconvert_exporter": "python",
   "pygments_lexer": "ipython3",
   "version": "3.7.2"
  }
 },
 "nbformat": 4,
 "nbformat_minor": 2
}

{
 "cells": [
  {
   "cell_type": "markdown",
   "metadata": {},
   "source": [
    "# Imports"
   ]
  },
  {
   "cell_type": "code",
   "execution_count": null,
   "metadata": {},
   "outputs": [],
   "source": [
    "import sys\n",
    "sys.path.append(\"..\")\n",
    "\n",
    "from KNN.ItemKNNCBFRecommender import ItemKNNCBFRecommender\n",
    "\n",
    "from Base.Evaluation.Evaluator import EvaluatorHoldout\n",
    "\n",
    "from Data_manager.MMTF14K.URM5Fold_WarmCold_Reader import URM5Fold_WarmCold_Reader\n",
    "from Data_manager.MMTF14K.URM5Fold_WarmCold_Splitter import URM5Fold_WarmCold_Splitter"
   ]
  },
  {
   "cell_type": "markdown",
   "metadata": {},
   "source": [
    "# Dataset selection and splitting"
   ]
  },
  {
   "cell_type": "markdown",
   "metadata": {},
   "source": [
    "### Dataset is downloaded and stored locally if absent"
   ]
  },
  {
   "cell_type": "code",
   "execution_count": null,
   "metadata": {
    "scrolled": true
   },
   "outputs": [],
   "source": [
    "# Selecting a dataset\n",
    "dataReader = URM5Fold_WarmCold_Reader()\n",
    "\n",
    "# Splitting the dataset. This split will produce a warm item split\n",
    "# To replicate the original experimens use the dataset accessible here with a cold item split:\n",
    "# https://mmprj.github.io/mtrm_dataset/index\n",
    "dataSplitter = URM5Fold_WarmCold_Splitter(dataReader)\n",
    "dataSplitter.load_data()"
   ]
  },
  {
   "cell_type": "markdown",
   "metadata": {},
   "source": [
    "# Setup URM and ICM"
   ]
  },
  {
   "cell_type": "code",
   "execution_count": null,
   "metadata": {},
   "outputs": [],
   "source": [
    "# Each URM is a scipy.sparse matrix of shape |users|x|items|\n",
    "URM_train = [\n",
    "    dataSplitter.get_URM_train_for_test_fold(n_test_fold=1)[0],\n",
    "    dataSplitter.get_URM_train_for_test_fold(n_test_fold=2)[0],\n",
    "    dataSplitter.get_URM_train_for_test_fold(n_test_fold=3)[0],\n",
    "    dataSplitter.get_URM_train_for_test_fold(n_test_fold=4)[0],\n",
    "    dataSplitter.get_URM_train_for_test_fold(n_test_fold=5)[0]\n",
    "]\n",
    "\n",
    "URM_test = [\n",
    "    dataSplitter.get_URM_train_for_test_fold(n_test_fold=1)[1],\n",
    "    dataSplitter.get_URM_train_for_test_fold(n_test_fold=2)[1],\n",
    "    dataSplitter.get_URM_train_for_test_fold(n_test_fold=3)[1],\n",
    "    dataSplitter.get_URM_train_for_test_fold(n_test_fold=4)[1],\n",
    "    dataSplitter.get_URM_train_for_test_fold(n_test_fold=5)[1]\n",
    "]\n",
    "\n",
    "# The ICM is a scipy.sparse matrix of shape |items|x|features|\n",
    "ICM = [\n",
    "    \"ICM_genre\": dataSplitter.get_ICM_from_name(\"ICM_genre\"),\n",
    "    \"ICM_year\": dataSplitter.get_ICM_from_name(\"ICM_year\"),\n",
    "    # \"ICM_BLF\": dataSplitter.get_ICM_from_name(\"ICM_BLF\"),\n",
    "    \"ICM_ivector_1\": dataSplitter.get_ICM_from_name(\"ICM_ivector_1\"),\n",
    "    \"ICM_AVF\": dataSplitter.get_ICM_from_name(\"ICM_AVF\"),\n",
    "    \"ICM_deep\": dataSplitter.get_ICM_from_name(\"ICM_deep\")\n",
    "]\n",
    "\n",
    "# This contains the items to be ignored during the evaluation step\n",
    "# In a cold items setting this should contain the indices of the warm items\n",
    "ignore_items = []"
   ]
  },
  {
   "cell_type": "markdown",
   "metadata": {},
   "source": [
    "# CBF Recommender training and evaluation"
   ]
  },
  {
   "cell_type": "code",
   "execution_count": null,
   "metadata": {},
   "outputs": [],
   "source": [
    "# Iterate over the different unimodals ICMs\n",
    "for ICM_item in ICM:\n",
    "    \n",
    "    # Iterate over HYPER-PARAMS values\n",
    "    topKValues = [100, 500, 1000]\n",
    "    shrinkValues = [10, 100, 200]\n",
    "\n",
    "    for topKValue in topKValues:\n",
    "        for shrinkValue in shrinkValues:\n",
    "            cbf_parameters = {\n",
    "                        'topK': topKValue,\n",
    "                        'shrink': shrinkValue,\n",
    "                        'similarity': 'cosine',\n",
    "                        'normalize': True,\n",
    "                        'feature_weighting': 'none' # Other options are BM25 and TF-IDF\n",
    "                     }\n",
    "\n",
    "            overall_result_dict = {}\n",
    "            for fold in range(0,len(ICM)):\n",
    "\n",
    "                evaluator_test = EvaluatorHoldout(URM_test[fold], cutoff_list=[5], ignore_items=ignore_items)\n",
    "                recommender_content_based = ItemKNNCBFRecommender(ICM_item[1],URM_train[fold])\n",
    "                recommender_content_based.fit(**cbf_parameters)\n",
    "\n",
    "                result_dict, result_string = evaluator_test.evaluateRecommender(recommender_content_based)\n",
    "                for metric,value in list(result_dict.values())[0].items():\n",
    "                    currentValue = overall_result_dict.get(metric, 0)\n",
    "                    overall_result_dict[metric] = currentValue + value\n",
    "\n",
    "            for metric, value in overall_result_dict.items():\n",
    "                overall_result_dict[metric] = value/len(ICM)\n",
    "\n",
    "            print(\"CBF recommendation quality is: {}\".format(result_string))\n",
    "\n",
    "            import json\n",
    "            json = json.dumps(list(overall_result_dict.values())[0], indent=4)\n",
    "            filename = \"Results/CBF - ColdItemSplit - ICMtype_{}-topK_{}-shrink_{} - results.json\".format(ICM_item[0],topKValue,shrinkValue)\n",
    "            f = open(filename,\"w\")\n",
    "            f.write(json)\n",
    "            f.close()\n",
    "        "
   ]
  }
 ],
 "metadata": {
  "kernelspec": {
   "display_name": "Python 3",
   "language": "python",
   "name": "python3"
  },
  "language_info": {
   "codemirror_mode": {
    "name": "ipython",
    "version": 3
   },
   "file_extension": ".py",
   "mimetype": "text/x-python",
   "name": "python",
   "nbconvert_exporter": "python",
   "pygments_lexer": "ipython3",
   "version": "3.7.2"
  }
 },
 "nbformat": 4,
 "nbformat_minor": 2
}

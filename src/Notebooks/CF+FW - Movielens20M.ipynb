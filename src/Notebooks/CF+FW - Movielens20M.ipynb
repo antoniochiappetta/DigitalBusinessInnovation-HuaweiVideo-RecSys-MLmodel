{
 "cells": [
  {
   "cell_type": "markdown",
   "metadata": {},
   "source": [
    "# Imports"
   ]
  },
  {
   "cell_type": "code",
   "execution_count": 1,
   "metadata": {},
   "outputs": [],
   "source": [
    "import sys\n",
    "sys.path.append(\"..\")\n",
    "\n",
    "from GraphBased.RP3betaRecommender import RP3betaRecommender\n",
    "from FeatureWeighting.Cython.CFW_D_Similarity_Cython import CFW_D_Similarity_Cython, EvaluatorCFW_D_wrapper\n",
    "\n",
    "from Base.Evaluation.Evaluator import EvaluatorHoldout\n",
    "\n",
    "from Data_manager.Movielens_20m.Movielens20MReader import Movielens20MReader\n",
    "from Data_manager.DataSplitter_k_fold import DataSplitter_Warm_k_fold"
   ]
  },
  {
   "cell_type": "markdown",
   "metadata": {},
   "source": [
    "# Dataset selection and splitting (TODO: Switch to cold item dataset)"
   ]
  },
  {
   "cell_type": "markdown",
   "metadata": {},
   "source": [
    "### Dataset is downloaded and stored locally if absent"
   ]
  },
  {
   "cell_type": "code",
   "execution_count": 2,
   "metadata": {},
   "outputs": [
    {
     "name": "stdout",
     "output_type": "stream",
     "text": [
      "DataSplitter_k_fold for DataReader: Movielens_20m\n",
      "\t Num items: 27278\n",
      "\t Num users: 138493\n",
      "\n",
      "\t Statistics for fold 0: n_interactions 3947336 ( 19.74%), n_items 27278 ( 100.00%), density: 1.04E-03\n",
      "\t Statistics for fold 1: n_interactions 3999236 ( 20.00%), n_items 27278 ( 100.00%), density: 1.06E-03\n",
      "\t Statistics for fold 2: n_interactions 4000004 ( 20.00%), n_items 27278 ( 100.00%), density: 1.06E-03\n",
      "\t Statistics for fold 3: n_interactions 3999236 ( 20.00%), n_items 27278 ( 100.00%), density: 1.06E-03\n",
      "\t Statistics for fold 4: n_interactions 4054451 ( 20.27%), n_items 27278 ( 100.00%), density: 1.07E-03\n",
      "\n",
      "\n",
      "\t Statistics for ICM_genre: n_features 20, feature occurrences 54406, density: 9.97E-02\n",
      "\n",
      "\n",
      "DataSplitter_k_fold: Done.\n"
     ]
    }
   ],
   "source": [
    "# Selecting a dataset\n",
    "dataReader = Movielens20MReader()\n",
    "\n",
    "# Splitting the dataset. This split will produce a warm item split\n",
    "# To replicate the original experimens use the dataset accessible here with a cold item split:\n",
    "# https://mmprj.github.io/mtrm_dataset/index\n",
    "dataSplitter = DataSplitter_Warm_k_fold(dataReader)\n",
    "dataSplitter.load_data()"
   ]
  },
  {
   "cell_type": "markdown",
   "metadata": {},
   "source": [
    "# Setup URM and ICM (TODO: Ignore warm items in cold items setting)"
   ]
  },
  {
   "cell_type": "code",
   "execution_count": 3,
   "metadata": {},
   "outputs": [
    {
     "name": "stdout",
     "output_type": "stream",
     "text": [
      "DataSplitter: Generating holdout split... \n",
      "DataSplitter: Generating holdout split... done!\n"
     ]
    }
   ],
   "source": [
    "# Each URM is a scipy.sparse matrix of shape |users|x|items|\n",
    "URM_train, URM_validation, URM_test = dataSplitter.get_holdout_split()\n",
    "\n",
    "# The ICM is a scipy.sparse matrix of shape |items|x|features|\n",
    "ICM = dataSplitter.get_ICM_from_name(\"ICM_genre\")\n",
    "\n",
    "# This contains the items to be ignored during the evaluation step\n",
    "# In a cold items setting this should contain the indices of the warm items\n",
    "ignore_items = []"
   ]
  },
  {
   "cell_type": "markdown",
   "metadata": {},
   "source": [
    "# Setup evaluators"
   ]
  },
  {
   "cell_type": "code",
   "execution_count": 4,
   "metadata": {},
   "outputs": [
    {
     "name": "stdout",
     "output_type": "stream",
     "text": [
      "Ignoring 0 Items\n",
      "Ignoring 0 Items\n"
     ]
    }
   ],
   "source": [
    "evaluator_validation = EvaluatorHoldout(URM_validation, cutoff_list=[5], ignore_items=ignore_items)\n",
    "evaluator_test = EvaluatorHoldout(URM_test, cutoff_list=[5], ignore_items=ignore_items)\n",
    "\n",
    "# This is used by the ML model of CFeCBF to perform early stopping and may be omitted.\n",
    "# ICM_target allows to set a different ICM for this validation step, providing flexibility in including\n",
    "# features present in either validation or test but not in train\n",
    "evaluator_validation_earlystopping = EvaluatorCFW_D_wrapper(evaluator_validation, ICM_target=ICM, model_to_use=\"last\")"
   ]
  },
  {
   "cell_type": "markdown",
   "metadata": {},
   "source": [
    "# CF Setup parameters (TODO: Parameter tuning)"
   ]
  },
  {
   "cell_type": "code",
   "execution_count": 5,
   "metadata": {},
   "outputs": [],
   "source": [
    "# We compute the similarity matrix resulting from a RP3beta recommender\n",
    "# Note that we have not included the code for parameter tuning, which should be done\n",
    "\n",
    "cf_parameters = {'topK': 500,\n",
    "                 'alpha': 0.9,\n",
    "                 'beta': 0.7,\n",
    "                 'normalize_similarity': True}"
   ]
  },
  {
   "cell_type": "markdown",
   "metadata": {},
   "source": [
    "# CF Recommender training and evaluation"
   ]
  },
  {
   "cell_type": "code",
   "execution_count": 6,
   "metadata": {},
   "outputs": [
    {
     "name": "stdout",
     "output_type": "stream",
     "text": [
      "EvaluatorHoldout: Processed 37401 ( 27.01% ) in 30.00 sec. Users per second: 1247\n",
      "EvaluatorHoldout: Processed 76001 ( 54.88% ) in 1.01 min. Users per second: 1259\n",
      "EvaluatorHoldout: Processed 115001 ( 83.04% ) in 1.51 min. Users per second: 1271\n",
      "EvaluatorHoldout: Processed 138493 ( 100.00% ) in 1.81 min. Users per second: 1278\n",
      "CF recommendation quality is: CUTOFF: 5 - ROC_AUC: 0.3642922, PRECISION: 0.2370199, PRECISION_RECALL_MIN_DEN: 0.2394507, RECALL: 0.0790500, MAP: 0.1562164, MRR: 0.4165224, NDCG: 0.1189325, F1: 0.1185587, HIT_RATE: 1.1850996, ARHR: 0.5706783, RMSE: 3.4897343, NOVELTY: 0.0017878, DIVERSITY_MEAN_INTER_LIST: 0.9400839, DIVERSITY_HERFINDAHL: 0.9880154, COVERAGE_ITEM: 0.1655180, COVERAGE_USER: 1.0000000, DIVERSITY_GINI: 0.0454186, SHANNON_ENTROPY: 7.4583214, \n",
      "\n"
     ]
    }
   ],
   "source": [
    "recommender_collaborative = RP3betaRecommender(URM_train)\n",
    "recommender_collaborative.fit(**cf_parameters)\n",
    "\n",
    "result_dict, result_string = evaluator_test.evaluateRecommender(recommender_collaborative)\n",
    "print(\"CF recommendation quality is: {}\".format(result_string))\n",
    "\n",
    "import json\n",
    "json = json.dumps(list(result_dict.values())[0], indent=4)\n",
    "f = open(\"Results/RP3beta - Movielens20M/results.json\",\"w\")\n",
    "f.write(json)\n",
    "f.close()"
   ]
  },
  {
   "cell_type": "markdown",
   "metadata": {},
   "source": [
    "# FW Setup parameters (TODO: Parameter tuning)"
   ]
  },
  {
   "cell_type": "code",
   "execution_count": 7,
   "metadata": {},
   "outputs": [],
   "source": [
    "# We get the similarity matrix\n",
    "# The similarity is a scipy.sparse matrix of shape |items|x|items|\n",
    "similarity_collaborative = recommender_collaborative.W_sparse.copy()\n",
    "\n",
    "\n",
    "# We instance and fit the feature weighting algorithm, it takes as input:\n",
    "# - The train URM\n",
    "# - The ICM\n",
    "# - The collaborative similarity matrix\n",
    "# Note that we have not included the code for parameter tuning, which should be done as those are just default parameters\n",
    "\n",
    "fw_parameters =  {'epochs': 200,\n",
    "                  'learning_rate': 0.0001,\n",
    "                  'sgd_mode': 'adam',\n",
    "                  'add_zeros_quota': 1.0,\n",
    "                  'l1_reg': 0.01,\n",
    "                  'l2_reg': 0.001,\n",
    "                  'topK': 100,\n",
    "                  'use_dropout': True,\n",
    "                  'dropout_perc': 0.7,\n",
    "                  'initialization_mode_D': 'random',\n",
    "                  'positive_only_D': False,\n",
    "                  'normalize_similarity': True}"
   ]
  },
  {
   "cell_type": "markdown",
   "metadata": {},
   "source": [
    "# FW Recommender training and evaluation"
   ]
  },
  {
   "cell_type": "code",
   "execution_count": 8,
   "metadata": {},
   "outputs": [
    {
     "ename": "ModuleNotFoundError",
     "evalue": "No module named 'FeatureWeighting.Cython.CFW_D_Similarity_Cython_SGD'",
     "output_type": "error",
     "traceback": [
      "\u001b[0;31m---------------------------------------------------------------------------\u001b[0m",
      "\u001b[0;31mModuleNotFoundError\u001b[0m                       Traceback (most recent call last)",
      "\u001b[0;32m<ipython-input-8-a2cb336d5d1e>\u001b[0m in \u001b[0;36m<module>\u001b[0;34m\u001b[0m\n\u001b[1;32m      8\u001b[0m                    \u001b[0mvalidation_every_n\u001b[0m \u001b[0;34m=\u001b[0m \u001b[0;36m5\u001b[0m\u001b[0;34m,\u001b[0m\u001b[0;34m\u001b[0m\u001b[0;34m\u001b[0m\u001b[0m\n\u001b[1;32m      9\u001b[0m                    \u001b[0mlower_validations_allowed\u001b[0m\u001b[0;34m=\u001b[0m\u001b[0;36m10\u001b[0m\u001b[0;34m,\u001b[0m\u001b[0;34m\u001b[0m\u001b[0;34m\u001b[0m\u001b[0m\n\u001b[0;32m---> 10\u001b[0;31m                    validation_metric=\"MAP\")\n\u001b[0m\u001b[1;32m     11\u001b[0m \u001b[0;34m\u001b[0m\u001b[0m\n\u001b[1;32m     12\u001b[0m \u001b[0;34m\u001b[0m\u001b[0m\n",
      "\u001b[0;32m~/OneDrive - Politecnico di Milano/PoliMi/Course - Digital Business Innovation/Project/Repo/recsys-videostreaming/src/FeatureWeighting/Cython/CFW_D_Similarity_Cython.py\u001b[0m in \u001b[0;36mfit\u001b[0;34m(self, show_max_performance, precompute_common_features, learning_rate, positive_only_D, initialization_mode_D, normalize_similarity, use_dropout, dropout_perc, l1_reg, l2_reg, epochs, topK, add_zeros_quota, log_file, verbose, sgd_mode, gamma, beta_1, beta_2, **earlystopping_kwargs)\u001b[0m\n\u001b[1;32m    115\u001b[0m \u001b[0;34m\u001b[0m\u001b[0m\n\u001b[1;32m    116\u001b[0m         \u001b[0;31m# Import compiled module\u001b[0m\u001b[0;34m\u001b[0m\u001b[0;34m\u001b[0m\u001b[0;34m\u001b[0m\u001b[0m\n\u001b[0;32m--> 117\u001b[0;31m         \u001b[0;32mfrom\u001b[0m \u001b[0mFeatureWeighting\u001b[0m\u001b[0;34m.\u001b[0m\u001b[0mCython\u001b[0m\u001b[0;34m.\u001b[0m\u001b[0mCFW_D_Similarity_Cython_SGD\u001b[0m \u001b[0;32mimport\u001b[0m \u001b[0mCFW_D_Similarity_Cython_SGD\u001b[0m\u001b[0;34m\u001b[0m\u001b[0;34m\u001b[0m\u001b[0m\n\u001b[0m\u001b[1;32m    118\u001b[0m \u001b[0;34m\u001b[0m\u001b[0m\n\u001b[1;32m    119\u001b[0m         \u001b[0mself\u001b[0m\u001b[0;34m.\u001b[0m\u001b[0mshow_max_performance\u001b[0m \u001b[0;34m=\u001b[0m \u001b[0mshow_max_performance\u001b[0m\u001b[0;34m\u001b[0m\u001b[0;34m\u001b[0m\u001b[0m\n",
      "\u001b[0;31mModuleNotFoundError\u001b[0m: No module named 'FeatureWeighting.Cython.CFW_D_Similarity_Cython_SGD'"
     ]
    }
   ],
   "source": [
    "import sys\n",
    "sys.path.insert(0, '/Users/antoniochiappetta/OneDrive - Politecnico di Milano/PoliMi/Course - Digital Business Innovation/Project/Repo/recsys-videostreaming/src/FeatureWeighting/Cython')\n",
    "\n",
    "recommender_fw = CFW_D_Similarity_Cython(URM_train, ICM, similarity_collaborative)\n",
    "recommender_fw.fit(**fw_parameters,\n",
    "                   evaluator_object=evaluator_validation_earlystopping,\n",
    "                   stop_on_validation=True,\n",
    "                   validation_every_n = 5,\n",
    "                   lower_validations_allowed=10,\n",
    "                   validation_metric=\"MAP\")\n",
    "\n",
    "\n",
    "result_dict, result_string = evaluator_test.evaluateRecommender(recommender_fw)\n",
    "print(\"CFeCBF recommendation quality is: {}\".format(result_string))"
   ]
  },
  {
   "cell_type": "code",
   "execution_count": null,
   "metadata": {},
   "outputs": [],
   "source": []
  }
 ],
 "metadata": {
  "kernelspec": {
   "display_name": "Python 3",
   "language": "python",
   "name": "python3"
  },
  "language_info": {
   "codemirror_mode": {
    "name": "ipython",
    "version": 3
   },
   "file_extension": ".py",
   "mimetype": "text/x-python",
   "name": "python",
   "nbconvert_exporter": "python",
   "pygments_lexer": "ipython3",
   "version": "3.7.2"
  }
 },
 "nbformat": 4,
 "nbformat_minor": 2
}
